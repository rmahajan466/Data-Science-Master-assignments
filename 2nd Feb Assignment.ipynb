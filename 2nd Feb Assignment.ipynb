{
 "cells": [
  {
   "cell_type": "code",
   "execution_count": 9,
   "id": "224a9671-d042-4ef7-ab2a-491ee259e979",
   "metadata": {
    "collapsed": true,
    "jupyter": {
     "outputs_hidden": true
    },
    "tags": []
   },
   "outputs": [
    {
     "name": "stdout",
     "output_type": "stream",
     "text": [
      "1\n",
      "2\n",
      "3\n",
      "4\n",
      "5\n",
      "6\n",
      "7\n",
      "8\n",
      "9\n",
      "10\n"
     ]
    },
    {
     "name": "stdin",
     "output_type": "stream",
     "text": [
      "Enter num you want to print:  5\n"
     ]
    },
    {
     "name": "stdout",
     "output_type": "stream",
     "text": [
      "0\n",
      "1\n",
      "2\n",
      "3\n",
      "4\n",
      "5\n"
     ]
    }
   ],
   "source": [
    "# Q1)\n",
    "'''\n",
    "Ans) The major difference between for loop and the whilw loop is that for loop is used when the number of iterations is known, whereas execution is done in while loop until the statement in the program is proved wrong.\n",
    "'''\n",
    "#for loop\n",
    "for i in range(1,11):\n",
    "    print(i)\n",
    "\n",
    "#while loop\n",
    "j=0\n",
    "num = int(input(\"Enter num you want to print: \"))\n",
    "while j <= num:\n",
    "    print(j)\n",
    "    j+=1\n"
   ]
  },
  {
   "cell_type": "code",
   "execution_count": 16,
   "id": "21567d8f-2c2a-4423-becd-b119c50fc9d0",
   "metadata": {
    "collapsed": true,
    "jupyter": {
     "outputs_hidden": true
    },
    "tags": []
   },
   "outputs": [
    {
     "name": "stdout",
     "output_type": "stream",
     "text": [
      "The sum of first 10 natural num is:  55\n",
      "The product of first 10 natural num is:  3628800\n",
      "The sum of first 10 natural num is:  55\n",
      "The product of first 10 natural num is:  3628800\n"
     ]
    }
   ],
   "source": [
    "#Q2) \n",
    "# sum of first 10 natural num using for loop\n",
    "sum = 0\n",
    "for i in range(1,11):\n",
    "    sum+=i\n",
    "print(\"The sum of first 10 natural num is: \",sum)\n",
    "\n",
    "# product of first 10 natural num using for loop\n",
    "mul = 1\n",
    "for j in range(1,11):\n",
    "    mul*=j\n",
    "print(\"The product of first 10 natural num is: \",mul)\n",
    "\n",
    "# sum of first 10 natural num using while loop\n",
    "sum1 = 0\n",
    "k=0\n",
    "while k<=10:\n",
    "    sum1+=k\n",
    "    k+=1\n",
    "print(\"The sum of first 10 natural num is: \",sum1)\n",
    "\n",
    "# product of first 10 natural num using while loop\n",
    "\n",
    "mul1 = 1\n",
    "l = 1\n",
    "while l <= 10:\n",
    "    mul1*=l\n",
    "    l+=1\n",
    "print(\"The product of first 10 natural num is: \",mul1)"
   ]
  },
  {
   "cell_type": "code",
   "execution_count": 22,
   "id": "787b4410-5a90-4e85-8fab-90ca5865f869",
   "metadata": {
    "collapsed": true,
    "jupyter": {
     "outputs_hidden": true
    },
    "tags": []
   },
   "outputs": [
    {
     "name": "stdin",
     "output_type": "stream",
     "text": [
      "Enter your electricity unit used:  310\n"
     ]
    },
    {
     "name": "stdout",
     "output_type": "stream",
     "text": [
      "The bill for consuption of  310.0  units of electricty is:  2250.0\n"
     ]
    }
   ],
   "source": [
    "#Q3) \n",
    "unit = float(input(\"Enter your electricity unit used: \"))\n",
    "if unit<=100:\n",
    "    bill = unit*(4.5)\n",
    "    print(\"The bill for consuption of \",unit,\" units of electricty is: \", bill)\n",
    "elif 100<unit<=200:\n",
    "    bal = unit - 100\n",
    "    bill = (4.5*100)+(bal*6)\n",
    "    print(\"The bill for consuption of \",unit,\" units of electricty is: \", bill)\n",
    "elif 200<unit<=300:\n",
    "    bal = unit - 200\n",
    "    bill = (4.5*100)+(6*100)+(bal*10)\n",
    "    print(\"The bill for consuption of \",unit,\" units of electricty is: \", bill)\n",
    "elif 300<unit:\n",
    "    bal = unit - 300\n",
    "    bill = (4.5*100)+(6*100)+(10*100)+(bal*20)\n",
    "    print(\"The bill for consuption of \",unit,\" units of electricty is: \", bill)"
   ]
  },
  {
   "cell_type": "code",
   "execution_count": 27,
   "id": "88089046-12a6-4f50-ac14-05622941c64e",
   "metadata": {},
   "outputs": [
    {
     "name": "stdout",
     "output_type": "stream",
     "text": [
      "[2, 4, 5, 6, 8, 10, 12, 14, 15, 16, 18, 20, 22, 24, 25, 26, 28, 30, 32, 34, 35, 36, 38, 40, 42, 44, 45, 46, 48, 50, 52, 54, 55, 56, 58, 60, 62, 64, 65, 66, 68, 70, 72, 74, 75, 76, 78, 80, 82, 84, 85, 86, 88, 90, 92, 94, 95, 96, 98, 100]\n"
     ]
    }
   ],
   "source": [
    "#Q4)\n",
    "l1 = []\n",
    "for i in range(1,101):\n",
    "    l1.append(i)\n",
    "l2 = []\n",
    "for j in l:\n",
    "    cube = j**3\n",
    "    if cube%4 == 0 or cube%5 == 0:\n",
    "        l2.append(j)\n",
    "print(l2)"
   ]
  },
  {
   "cell_type": "code",
   "execution_count": 24,
   "id": "e9d752d7-cac0-4d92-a730-41c382efa3df",
   "metadata": {},
   "outputs": [
    {
     "name": "stdout",
     "output_type": "stream",
     "text": [
      "The count of vowels in the given string is:  12\n"
     ]
    }
   ],
   "source": [
    "#Q5) \n",
    "string = \"I want to become a data scientist\"\n",
    "count = 0\n",
    "for i in string:\n",
    "    if i == 'a' or i == 'e' or i == 'i' or i == 'o' or i == 'u' or i == 'A' or i == 'E' or  i == 'I' or i =='O' or i == 'U':\n",
    "        count += 1\n",
    "print(\"The count of vowels in the given string is: \",count)"
   ]
  },
  {
   "cell_type": "code",
   "execution_count": null,
   "id": "04d4fa10-41b2-4eb3-9552-67137ff0cbc4",
   "metadata": {},
   "outputs": [],
   "source": []
  }
 ],
 "metadata": {
  "kernelspec": {
   "display_name": "Python 3 (ipykernel)",
   "language": "python",
   "name": "python3"
  },
  "language_info": {
   "codemirror_mode": {
    "name": "ipython",
    "version": 3
   },
   "file_extension": ".py",
   "mimetype": "text/x-python",
   "name": "python",
   "nbconvert_exporter": "python",
   "pygments_lexer": "ipython3",
   "version": "3.10.6"
  }
 },
 "nbformat": 4,
 "nbformat_minor": 5
}
