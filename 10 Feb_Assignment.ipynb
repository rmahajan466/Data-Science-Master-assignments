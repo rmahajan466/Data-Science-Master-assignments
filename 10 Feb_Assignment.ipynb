{
 "cells": [
  {
   "cell_type": "code",
   "execution_count": 1,
   "id": "1578aa0a-9cb0-43ca-b6ea-4e12b5f8214e",
   "metadata": {},
   "outputs": [
    {
     "data": {
      "text/plain": [
       "\"\\nRead Mode ('r'):\\nThis is the default mode. It opens the file for reading. If the file does not exist, it raises a FileNotFoundError.\\nExample: open('file.txt', 'r')\\nWrite Mode ('w'):\\nThis mode opens the file for writing. If the file exists, it truncates the file to zero length (erases its contents). \\nIf the file does not exist, it creates a new file.\\nExample: open('file.txt', 'w')\\nAppend Mode ('a'):\\nThis mode opens the file for appending data. The file pointer is at the end of the file. If the file does not exist, it creates a new file.\\nExample: open('file.txt', 'a')\\nBinary Mode ('b'):\\nThis mode is used for opening the file in binary mode. It appends 'b' to other modes (e.g., 'rb', 'wb', 'ab') to open a file in binary mode.\\nExample: open('file.txt', 'rb')\\nRead and Write Mode ('r+'):\\nThis mode opens the file for both reading and writing. The file pointer is placed at the beginning of the file.\\nExample: open('file.txt', 'r+')\\nWrite and Read Mode ('w+'):\\nThis mode opens the file for reading and writing. It truncates the file to zero length if it exists, or creates a new file if it does not exist.\\nExample: open('file.txt', 'w+')\\nAppend and Read Mode ('a+'):\\nThis mode opens the file for reading and appending. The file pointer is at the end of the file if the file exists.\\nExample: open('file.txt', 'a+')\\nExclusive Creation Mode ('x'):\\nThis mode opens the file for exclusive creation. If the file already exists, the operation fails.\\nExample: open('file.txt', 'x')\\n\\n\""
      ]
     },
     "execution_count": 1,
     "metadata": {},
     "output_type": "execute_result"
    }
   ],
   "source": [
    "#Q1. Which function is used to open a file? What are the different modes of opening a file? Explain each mode of file opening.\n",
    "\n",
    "\"\"\"\n",
    "Read Mode ('r'):\n",
    "This is the default mode. It opens the file for reading. If the file does not exist, it raises a FileNotFoundError.\n",
    "Example: open('file.txt', 'r')\n",
    "Write Mode ('w'):\n",
    "This mode opens the file for writing. If the file exists, it truncates the file to zero length (erases its contents). \n",
    "If the file does not exist, it creates a new file.\n",
    "Example: open('file.txt', 'w')\n",
    "Append Mode ('a'):\n",
    "This mode opens the file for appending data. The file pointer is at the end of the file. If the file does not exist, it creates a new file.\n",
    "Example: open('file.txt', 'a')\n",
    "Binary Mode ('b'):\n",
    "This mode is used for opening the file in binary mode. It appends 'b' to other modes (e.g., 'rb', 'wb', 'ab') to open a file in binary mode.\n",
    "Example: open('file.txt', 'rb')\n",
    "Read and Write Mode ('r+'):\n",
    "This mode opens the file for both reading and writing. The file pointer is placed at the beginning of the file.\n",
    "Example: open('file.txt', 'r+')\n",
    "Write and Read Mode ('w+'):\n",
    "This mode opens the file for reading and writing. It truncates the file to zero length if it exists, or creates a new file if it does not exist.\n",
    "Example: open('file.txt', 'w+')\n",
    "Append and Read Mode ('a+'):\n",
    "This mode opens the file for reading and appending. The file pointer is at the end of the file if the file exists.\n",
    "Example: open('file.txt', 'a+')\n",
    "Exclusive Creation Mode ('x'):\n",
    "This mode opens the file for exclusive creation. If the file already exists, the operation fails.\n",
    "Example: open('file.txt', 'x')\n",
    "\n",
    "\"\"\""
   ]
  },
  {
   "cell_type": "code",
   "execution_count": 2,
   "id": "84fea39c-5758-4e16-993c-9b6f8fd1fdc4",
   "metadata": {},
   "outputs": [
    {
     "data": {
      "text/plain": [
       "\"\\n\\nThe close() function in Python is used to close a file that has been opened using the open() function. \\nIt's important to use close() to properly release the system's resources associated with the file. \\nHere's why closing a file is important:\\n\\nResource Management:\\nWhen you open a file, the operating system allocates certain resources (like file descriptors) to handle that file. \\nIf you don't close the file properly after you're done using it, these resources might not be released back to the system immediately. \\nThis can lead to resource leakage, especially if your program opens many files or if the files are large.\\n\\nData Integrity:\\nClosing a file ensures that all data pending to be written is actually flushed to the disk. \\nSome file operations (like writes) may not directly update the file on disk; they might be buffered in memory. \\nClosing the file guarantees that all buffered data is written out.\\n\\nPrevents Data Corruption:\\nIf you keep a file open and perform operations on it, there's a risk of data corruption or loss if your program crashes or encounters an error before closing the file. \\nClosing the file minimizes this risk by finalizing all operations on the file.\\n\\nOther Processes:\\nOn some operating systems, a file that is kept open by a process might not be accessible or editable by other processes until it's closed. \\nClosing the file ensures that it becomes available for other processes to use.\\n\\nBest Practices:\\nIt's a good programming practice to clean up resources when you're done using them. \\nExplicitly closing files not only helps in proper resource management but also makes your code more readable and maintainable.\\n\\n\""
      ]
     },
     "execution_count": 2,
     "metadata": {},
     "output_type": "execute_result"
    }
   ],
   "source": [
    "#Q2. Why close() function is used? Why is it important to close a file?\n",
    "\n",
    "\"\"\"\n",
    "\n",
    "The close() function in Python is used to close a file that has been opened using the open() function. \n",
    "It's important to use close() to properly release the system's resources associated with the file. \n",
    "Here's why closing a file is important:\n",
    "\n",
    "Resource Management:\n",
    "When you open a file, the operating system allocates certain resources (like file descriptors) to handle that file. \n",
    "If you don't close the file properly after you're done using it, these resources might not be released back to the system immediately. \n",
    "This can lead to resource leakage, especially if your program opens many files or if the files are large.\n",
    "\n",
    "Data Integrity:\n",
    "Closing a file ensures that all data pending to be written is actually flushed to the disk. \n",
    "Some file operations (like writes) may not directly update the file on disk; they might be buffered in memory. \n",
    "Closing the file guarantees that all buffered data is written out.\n",
    "\n",
    "Prevents Data Corruption:\n",
    "If you keep a file open and perform operations on it, there's a risk of data corruption or loss if your program crashes or encounters an error before closing the file. \n",
    "Closing the file minimizes this risk by finalizing all operations on the file.\n",
    "\n",
    "Other Processes:\n",
    "On some operating systems, a file that is kept open by a process might not be accessible or editable by other processes until it's closed. \n",
    "Closing the file ensures that it becomes available for other processes to use.\n",
    "\n",
    "Best Practices:\n",
    "It's a good programming practice to clean up resources when you're done using them. \n",
    "Explicitly closing files not only helps in proper resource management but also makes your code more readable and maintainable.\n",
    "\n",
    "\"\"\""
   ]
  },
  {
   "cell_type": "code",
   "execution_count": 3,
   "id": "c81ec0bc-ca92-4c31-b005-5e4d481b7fec",
   "metadata": {},
   "outputs": [
    {
     "name": "stdout",
     "output_type": "stream",
     "text": [
      "Content 'I want to become a Data Scientist' successfully written to 'data_scientist.txt'\n",
      "Content read from 'data_scientist.txt': I want to become a Data Scientist\n"
     ]
    }
   ],
   "source": [
    "#Q3. Write a python program to create a text file. Write ‘I want to become a Data Scientist’ in that file.\n",
    "#Then close the file. Open this file and read the content of the file.\n",
    "\n",
    "# Define the text content\n",
    "content = \"I want to become a Data Scientist\"\n",
    "\n",
    "# Step 1: Create a text file and write content to it\n",
    "file_path = \"data_scientist.txt\"\n",
    "\n",
    "try:\n",
    "    # Open file in write mode ('w')\n",
    "    with open(file_path, 'w') as file:\n",
    "        # Write the content to the file\n",
    "        file.write(content)\n",
    "        print(f\"Content '{content}' successfully written to '{file_path}'\")\n",
    "\n",
    "except IOError:\n",
    "    print(f\"Error: Unable to write to file '{file_path}'\")\n",
    "\n",
    "# Step 2: Open the file and read its content\n",
    "try:\n",
    "    # Open file in read mode ('r')\n",
    "    with open(file_path, 'r') as file:\n",
    "        # Read the content of the file\n",
    "        file_content = file.read()\n",
    "        print(f\"Content read from '{file_path}': {file_content}\")\n",
    "\n",
    "except IOError:\n",
    "    print(f\"Error: Unable to read from file '{file_path}'\")\n"
   ]
  },
  {
   "cell_type": "code",
   "execution_count": 4,
   "id": "c9d7ffe2-18e2-44fc-bb3f-148677364b98",
   "metadata": {},
   "outputs": [],
   "source": [
    "#Q4. Explain the following with python code: read(), readline() and readlines()."
   ]
  },
  {
   "cell_type": "code",
   "execution_count": 6,
   "id": "dd065ac4-fde2-44c8-9c53-a57b8fb64b0a",
   "metadata": {},
   "outputs": [
    {
     "name": "stdout",
     "output_type": "stream",
     "text": [
      "Hello\n"
     ]
    }
   ],
   "source": [
    "#read()\n",
    "# Open the file in read mode\n",
    "with open('example.txt', 'r') as file:\n",
    "    # Read the entire content of the file\n",
    "    content = file.read()\n",
    "    print(content)"
   ]
  },
  {
   "cell_type": "code",
   "execution_count": 7,
   "id": "f18f81ac-83c1-4586-ae0c-af47e13b4563",
   "metadata": {},
   "outputs": [
    {
     "name": "stdout",
     "output_type": "stream",
     "text": [
      "Hello\n",
      "\n"
     ]
    }
   ],
   "source": [
    "#readline()\n",
    "# Open the file in read mode\n",
    "with open('example.txt', 'r') as file:\n",
    "    # Read the first line from the file\n",
    "    line1 = file.readline()\n",
    "    print(line1)\n",
    "    # Read the next line from the file\n",
    "    line2 = file.readline()\n",
    "    print(line2)"
   ]
  },
  {
   "cell_type": "code",
   "execution_count": 9,
   "id": "70fa3d56-80ea-4ea3-b241-05cf2095c603",
   "metadata": {},
   "outputs": [
    {
     "name": "stdout",
     "output_type": "stream",
     "text": [
      "Hello\n"
     ]
    }
   ],
   "source": [
    "#readlines()\n",
    "# Open the file in read mode\n",
    "with open('example.txt', 'r') as file:\n",
    "    # Read all lines from the file into a list\n",
    "    lines = file.readlines()\n",
    "    # Iterate over each line and print them\n",
    "    for line in lines:\n",
    "        print(line.strip())  # strip() removes newline characters"
   ]
  },
  {
   "cell_type": "code",
   "execution_count": 10,
   "id": "f6910cf9-2991-4c3b-95c8-13aeed30dcfd",
   "metadata": {},
   "outputs": [],
   "source": [
    "#Q5. Explain why with statement is used with open(). What is the advantage of using with statement and open() together?"
   ]
  },
  {
   "cell_type": "code",
   "execution_count": 11,
   "id": "3051cbe5-d234-471c-9713-5fdfab793042",
   "metadata": {},
   "outputs": [
    {
     "data": {
      "text/plain": [
       "\"\\n\\nThe with statement in Python is used in conjunction with the open() function when working with files to ensure proper handling of file resources by automatically managing the file's context. \\nLet's explain why the with statement is used with open() and the advantages of using them together:\\n\\n1. Context Management\\nWhen you open a file using open(), system resources such as file descriptors are allocated for that file. \\nThese resources need to be released once you are done using the file to avoid memory leaks and ensure efficient resource management.\\n\\nThe with statement in Python provides a convenient way to manage resources and ensure they are properly cleaned up. \\nWhen used with open(), the file object's __exit__() method is called automatically at the end of the with block, \\nwhich ensures that the file is closed regardless of how the block exits (whether it completes normally or an exception occurs).\\n\\n2. Advantage of Using with Statement with open()\\nThe main advantage of using the with statement with open() for file handling is:\\n\\nAutomatic Resource Management: \\n    The with statement guarantees that the file is properly closed after its suite (the indented block of code following with) is executed, \\n    even if an exception occurs within the block. This helps prevent resource leaks and ensures efficient use of system resources.\\n    \\n\""
      ]
     },
     "execution_count": 11,
     "metadata": {},
     "output_type": "execute_result"
    }
   ],
   "source": [
    "\"\"\"\n",
    "\n",
    "The with statement in Python is used in conjunction with the open() function when working with files to ensure proper handling of file resources by automatically managing the file's context. \n",
    "Let's explain why the with statement is used with open() and the advantages of using them together:\n",
    "\n",
    "1. Context Management\n",
    "When you open a file using open(), system resources such as file descriptors are allocated for that file. \n",
    "These resources need to be released once you are done using the file to avoid memory leaks and ensure efficient resource management.\n",
    "\n",
    "The with statement in Python provides a convenient way to manage resources and ensure they are properly cleaned up. \n",
    "When used with open(), the file object's __exit__() method is called automatically at the end of the with block, \n",
    "which ensures that the file is closed regardless of how the block exits (whether it completes normally or an exception occurs).\n",
    "\n",
    "2. Advantage of Using with Statement with open()\n",
    "The main advantage of using the with statement with open() for file handling is:\n",
    "\n",
    "Automatic Resource Management: \n",
    "    The with statement guarantees that the file is properly closed after its suite (the indented block of code following with) is executed, \n",
    "    even if an exception occurs within the block. This helps prevent resource leaks and ensures efficient use of system resources.\n",
    "    \n",
    "\"\"\""
   ]
  },
  {
   "cell_type": "code",
   "execution_count": 12,
   "id": "e3d879f4-86d8-4381-96b6-fb29e0c9fed8",
   "metadata": {},
   "outputs": [],
   "source": [
    "#Q6. Explain the write() and writelines() functions. Give a suitable example."
   ]
  },
  {
   "cell_type": "code",
   "execution_count": 13,
   "id": "714bd8ba-8d6f-44a8-8960-b54e0ed73b54",
   "metadata": {},
   "outputs": [
    {
     "data": {
      "text/plain": [
       "'\\n\\n1. write() Function\\nThe write() function is used to write a string to a file. \\nIt appends the specified string to the end of the file or overwrites the existing content if the file already contains data.\\n\\nExample:\\n    \\n'"
      ]
     },
     "execution_count": 13,
     "metadata": {},
     "output_type": "execute_result"
    }
   ],
   "source": [
    "\"\"\"\n",
    "\n",
    "1. write() Function\n",
    "The write() function is used to write a string to a file. \n",
    "It appends the specified string to the end of the file or overwrites the existing content if the file already contains data.\n",
    "\n",
    "Example:\n",
    "    \n",
    "\"\"\""
   ]
  },
  {
   "cell_type": "code",
   "execution_count": 14,
   "id": "7deb05c1-16a3-49a0-9a51-dc6c44aadf96",
   "metadata": {},
   "outputs": [],
   "source": [
    "# Open a file in write mode\n",
    "with open('example.txt', 'w') as file:\n",
    "    # Write a string to the file\n",
    "    file.write(\"Hello, World!\\n\")\n",
    "    file.write(\"This is a sample file.\")"
   ]
  },
  {
   "cell_type": "code",
   "execution_count": 15,
   "id": "45bf618b-072b-4976-a03c-dd9109d85bb4",
   "metadata": {},
   "outputs": [
    {
     "data": {
      "text/plain": [
       "'\\n\\n2. writelines() Function\\nThe writelines() function is used to write a list of strings to a file. It writes each string element of the list to the file consecutively.\\n\\n\\nExample:\\n\\n'"
      ]
     },
     "execution_count": 15,
     "metadata": {},
     "output_type": "execute_result"
    }
   ],
   "source": [
    "\"\"\"\n",
    "\n",
    "2. writelines() Function\n",
    "The writelines() function is used to write a list of strings to a file. It writes each string element of the list to the file consecutively.\n",
    "\n",
    "\n",
    "Example:\n",
    "\n",
    "\"\"\""
   ]
  },
  {
   "cell_type": "code",
   "execution_count": 16,
   "id": "e03c8bce-8a2f-4b3f-ae21-0d4049672814",
   "metadata": {},
   "outputs": [],
   "source": [
    "# List of strings to write to the file\n",
    "lines = [\"Apple\\n\", \"Banana\\n\", \"Orange\\n\"]\n",
    "\n",
    "# Open a file in write mode\n",
    "with open('fruits.txt', 'w') as file:\n",
    "    # Write the list of strings to the file\n",
    "    file.writelines(lines)\n"
   ]
  },
  {
   "cell_type": "code",
   "execution_count": null,
   "id": "246861f9-f478-4554-8ff3-2b837a5de5ad",
   "metadata": {},
   "outputs": [],
   "source": []
  }
 ],
 "metadata": {
  "kernelspec": {
   "display_name": "Python 3 (ipykernel)",
   "language": "python",
   "name": "python3"
  },
  "language_info": {
   "codemirror_mode": {
    "name": "ipython",
    "version": 3
   },
   "file_extension": ".py",
   "mimetype": "text/x-python",
   "name": "python",
   "nbconvert_exporter": "python",
   "pygments_lexer": "ipython3",
   "version": "3.10.8"
  }
 },
 "nbformat": 4,
 "nbformat_minor": 5
}
