{
 "cells": [
  {
   "cell_type": "code",
   "execution_count": 1,
   "id": "fffa2ec4-28f7-4215-b297-1385ca8554c6",
   "metadata": {},
   "outputs": [],
   "source": [
    "#Q1. What is Flask Framework? What are the advantages of Flask Framework?"
   ]
  },
  {
   "cell_type": "code",
   "execution_count": null,
   "id": "08eefe38-8bde-4a9d-bf5c-3a6ecadb7696",
   "metadata": {},
   "outputs": [],
   "source": [
    "\"\"\"\n",
    "\n",
    "Flask is a lightweight and flexible Python web framework that provides tools and libraries to build web applications. \n",
    "It's considered a micro-framework, which means it aims to be simple and easy to use, allowing developers the flexibility to choose the \n",
    "components they need while being unobtrusive with other parts of the application.\n",
    "\n",
    "Advantages of Flask Framework include:\n",
    "\n",
    "1. Simplicity\n",
    "2. Flexibility\n",
    "3. Built-in Development Server\n",
    "4. Jinja2 Templating\n",
    "5. Extensible\n",
    "\n",
    "\"\"\""
   ]
  },
  {
   "cell_type": "code",
   "execution_count": null,
   "id": "4a2b5fce-0192-4bc4-bfcf-653f979a8d84",
   "metadata": {},
   "outputs": [],
   "source": [
    "#Q2. Create a simple Flask application to display ‘Hello World!!’. Attach the screenshot of the output in Jupyter Notebook.\n",
    "#download link\n",
    "\"\"\"\n",
    "https://blue-mechanic-dmgjc.pwskills.app/files/work/Screenshot%202024-05-11%20202910.png?_xsrf=2%7C214359da%7C9a5e3b10f363dbda42929e103de3bdf3%7C1714824385\n",
    "\"\"\""
   ]
  },
  {
   "cell_type": "code",
   "execution_count": 2,
   "id": "af92d43c-b483-4820-a938-c31604af9930",
   "metadata": {},
   "outputs": [],
   "source": [
    "#Q3. What is App routing in Flask? Why do we use app routes?"
   ]
  },
  {
   "cell_type": "code",
   "execution_count": null,
   "id": "87c79463-e913-40e3-b1b4-1a736891eec0",
   "metadata": {},
   "outputs": [],
   "source": [
    "\"\"\"\n",
    "\n",
    "App routing refers to the process of mapping URLs (or routes) to Python functions. These mapped functions are called view functions. \n",
    "When a user navigates to a specific URL in a Flask application, the corresponding view function associated with that URL is executed to generate \n",
    "a response.\n",
    "\n",
    "Why Use App Routes:\n",
    "\n",
    "-> URL Mapping: App routes allow you to define how different URLs in your application map to specific functionality or content. \n",
    "    This makes your application accessible and navigable.\n",
    "\n",
    "-> Modular Design: By using routes, you can organize your application into logical components, with each route handling a specific aspect of the \n",
    "    application's functionality.\n",
    "\n",
    "-> Dynamic Content: Routes enable the creation of dynamic web pages based on user input or URL parameters. \n",
    "    This is particularly useful for building interactive web applications.\n",
    "\n",
    "-> RESTful APIs: Routes are essential for building RESTful APIs in Flask, where different routes correspond to different API endpoints that handle \n",
    "    various CRUD (Create, Read, Update, Delete) operations.\n",
    "    \n",
    "\"\"\""
   ]
  },
  {
   "cell_type": "code",
   "execution_count": null,
   "id": "aa5c0145-f3b5-4b12-9c64-1519426964a1",
   "metadata": {},
   "outputs": [],
   "source": [
    "\"\"\"\n",
    "Q4. Create a “/welcome” route to display the welcome message “Welcome to ABC Corporation” and a “/”\n",
    "route to show the following details:\n",
    "Company Name: ABC Corporation\n",
    "Location: India\n",
    "Contact Detail: 999-999-9999\n",
    "\n",
    "\"\"\"\n",
    "\n",
    "#download link\n",
    "\"\"\"\n",
    "https://blue-mechanic-dmgjc.pwskills.app/files/work/Screenshot%202024-05-11%20203808.png?_xsrf=2%7C214359da%7C9a5e3b10f363dbda42929e103de3bdf3%7C1714824385\n",
    "\"\"\""
   ]
  },
  {
   "cell_type": "code",
   "execution_count": 1,
   "id": "e329b6cb-bd49-45c8-9aac-947da711f119",
   "metadata": {},
   "outputs": [],
   "source": [
    "#Q5. What function is used in Flask for URL Building? Write a Python code to demonstrate the working of the url_for() function."
   ]
  },
  {
   "cell_type": "code",
   "execution_count": null,
   "id": "159bc07b-6651-4959-8ff2-d8b9e1b7b9f5",
   "metadata": {},
   "outputs": [],
   "source": [
    "\"\"\"\n",
    "\n",
    "The url_for() function is used for URL building. \n",
    "This function generates a URL for a specified endpoint (view function) based on its name. \n",
    "It's particularly useful because it allows you to avoid hardcoding URLs in your templates or code, \n",
    "making your application more flexible and easier to maintain, especially when URLs change.\n",
    "\n",
    "\"\"\""
   ]
  },
  {
   "cell_type": "code",
   "execution_count": 2,
   "id": "425d059e-a82a-442d-b651-e4c14cc15097",
   "metadata": {},
   "outputs": [],
   "source": [
    "#python code to demonstrate"
   ]
  },
  {
   "cell_type": "code",
   "execution_count": null,
   "id": "33874a28-40b6-4796-9f5c-51e72294b2c5",
   "metadata": {},
   "outputs": [],
   "source": [
    "from flask import Flask, url_for\n",
    "\n",
    "app = Flask(__name__)\n",
    "\n",
    "# Define multiple routes (view functions)\n",
    "@app.route('/')\n",
    "def index():\n",
    "    return 'Welcome to the home page!'\n",
    "\n",
    "@app.route('/user/<username>')\n",
    "def show_user_profile(username):\n",
    "    return f'User: {username}'\n",
    "\n",
    "@app.route('/post/<int:post_id>')\n",
    "def show_post(post_id):\n",
    "    return f'Post ID: {post_id}'\n",
    "\n",
    "# Example demonstrating the use of url_for() in another view function\n",
    "@app.route('/redirect')\n",
    "def redirect_to_user():\n",
    "    # Use url_for() to generate a URL for the show_user_profile endpoint\n",
    "    # with a specified username (here 'john')\n",
    "    user_url = url_for('show_user_profile', username='john')\n",
    "    return f'Redirecting to user profile: {user_url}'\n",
    "\n",
    "if __name__ == '__main__':\n",
    "    app.run(debug=True)\n"
   ]
  }
 ],
 "metadata": {
  "kernelspec": {
   "display_name": "Python 3 (ipykernel)",
   "language": "python",
   "name": "python3"
  },
  "language_info": {
   "codemirror_mode": {
    "name": "ipython",
    "version": 3
   },
   "file_extension": ".py",
   "mimetype": "text/x-python",
   "name": "python",
   "nbconvert_exporter": "python",
   "pygments_lexer": "ipython3",
   "version": "3.10.8"
  }
 },
 "nbformat": 4,
 "nbformat_minor": 5
}
