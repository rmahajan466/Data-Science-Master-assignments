{
 "cells": [
  {
   "cell_type": "code",
   "execution_count": 5,
   "id": "ed749452-bcce-45b7-bbe9-4243a9c75f0b",
   "metadata": {},
   "outputs": [],
   "source": [
    "'''Q1. Which keyword is used to create a function? Create a function to return a list of odd numbers in the\n",
    "range of 1 to 25.'''\n",
    "'''\n",
    "Ans) def keyword is used to create a function\n",
    "'''\n",
    "#creating function to return a list of add numbers in the range of 1 to 25\n",
    "\n",
    "def oddNums():\n",
    "    '''Function to return odd numbers'''\n",
    "    oddNum = []\n",
    "    for i in range(1,26):\n",
    "        if i%2==0:\n",
    "            continue\n",
    "        else:\n",
    "            oddNum.append(i)\n",
    "    return oddNum"
   ]
  },
  {
   "cell_type": "code",
   "execution_count": 7,
   "id": "39a98caf-dbe2-44ef-b22a-0fe18f0a349e",
   "metadata": {},
   "outputs": [
    {
     "data": {
      "text/plain": [
       "[1, 3, 5, 7, 9, 11, 13, 15, 17, 19, 21, 23, 25]"
      ]
     },
     "execution_count": 7,
     "metadata": {},
     "output_type": "execute_result"
    }
   ],
   "source": [
    "oddNums()"
   ]
  },
  {
   "cell_type": "code",
   "execution_count": 8,
   "id": "e9ad65d1-5026-4f98-b5eb-761022ac84e4",
   "metadata": {},
   "outputs": [],
   "source": [
    "'''Q2. Why *args and **kwargs is used in some functions? Create a function each for *args and **kwargs\n",
    "to demonstrate their use.\n",
    "'''\n",
    "\n",
    "'''\n",
    "Ans) *args is used to get n number of parameters in a functions in tuple form\n",
    "     **kwargs is used to get n number of parameters in a function in key value pair\n",
    "'''\n",
    "\n",
    "# function with *agrs\n",
    "def multi(*args):\n",
    "    return args\n",
    "\n",
    "def multiKeyValue(**kwargs):\n",
    "    return kwargs"
   ]
  },
  {
   "cell_type": "code",
   "execution_count": 10,
   "id": "fd05efec-118f-4b00-9e3c-2cf72026d9a8",
   "metadata": {},
   "outputs": [
    {
     "data": {
      "text/plain": [
       "(1, 2, 3, 4, 5, [12, 3, 4, 3])"
      ]
     },
     "execution_count": 10,
     "metadata": {},
     "output_type": "execute_result"
    }
   ],
   "source": [
    "multi(1,2,3,4,5,[12,3,4,3])"
   ]
  },
  {
   "cell_type": "code",
   "execution_count": 11,
   "id": "5facbc26-b143-4dfe-a3d6-d78174ec3f7c",
   "metadata": {},
   "outputs": [
    {
     "data": {
      "text/plain": [
       "{'a': 10, 'b': 20, 'c': 45}"
      ]
     },
     "execution_count": 11,
     "metadata": {},
     "output_type": "execute_result"
    }
   ],
   "source": [
    "multiKeyValue(a=10,b=20,c=45)"
   ]
  },
  {
   "cell_type": "code",
   "execution_count": 12,
   "id": "5dbf598e-bab3-430d-a219-82beff9f1c70",
   "metadata": {},
   "outputs": [
    {
     "name": "stdout",
     "output_type": "stream",
     "text": [
      "2\n",
      "4\n",
      "6\n",
      "8\n",
      "10\n"
     ]
    }
   ],
   "source": [
    "'''Q3. What is an iterator in python? Name the method used to initialise the iterator object and the method\n",
    "used for iteration. Use these methods to print the first five elements of the given list [2, 4, 6, 8, 10, 12, 14,\n",
    "16, 18, 20]\n",
    "'''\n",
    "\n",
    "'''\n",
    "Ans) an iterator is an object that allows iteration over a container or a sequence of elements.\n",
    "It provides a way to access the elements of a collection one at a time without the need to know the underlying structure of the collection\n",
    "to print the first five elements of the list [2, 4, 6, 8, 10, 12, 14, 16, 18, 20], code is below\n",
    "'''\n",
    "#to print first 5 element of list\n",
    "my_list = [2, 4, 6, 8, 10, 12, 14, 16, 18, 20]\n",
    "iterator = iter(my_list)\n",
    "\n",
    "for _ in range(5):\n",
    "    element = next(iterator)\n",
    "    print(element)\n"
   ]
  },
  {
   "cell_type": "code",
   "execution_count": 13,
   "id": "5c58dae5-ec60-49a1-b4a3-d10241420d08",
   "metadata": {},
   "outputs": [],
   "source": [
    "'''\n",
    "Q4. What is a generator function in python? Why yield keyword is used? Give an example of a generator\n",
    "function.\n",
    "\n",
    "Ans) A generator function in Python is a special type of function that returns an iterator. \n",
    "It generates a sequence of values lazily, on-the-fly, as requested by the caller, rather than generating the entire sequence upfront. \n",
    "This makes generators memory-efficient and allows them to handle large or infinite sequences.\n",
    "\n",
    "The `yield` keyword is used in a generator function to define the points at which the function should pause and yield a value to the caller. \n",
    "When a generator function encounters a `yield` statement, it temporarily suspends its execution and returns the yielded value. \n",
    "The next time the generator's `next()` method is called, the function resumes execution from where it left off.\n",
    "\n",
    "'''\n",
    "\n",
    "#example of generator function\n",
    "def even_numbers():\n",
    "    num = 0\n",
    "    while True:\n",
    "        yield num\n",
    "        num += 2"
   ]
  },
  {
   "cell_type": "code",
   "execution_count": 14,
   "id": "b305798d-847f-478b-a618-4339d20ffb34",
   "metadata": {},
   "outputs": [
    {
     "name": "stdout",
     "output_type": "stream",
     "text": [
      "2\n",
      "3\n",
      "5\n",
      "7\n",
      "11\n",
      "13\n",
      "17\n",
      "19\n",
      "23\n",
      "29\n",
      "31\n",
      "37\n",
      "41\n",
      "43\n",
      "47\n",
      "53\n",
      "59\n",
      "61\n",
      "67\n",
      "71\n"
     ]
    }
   ],
   "source": [
    "'''\n",
    "Q5. Create a generator function for prime numbers less than 1000. Use the next() method to print the\n",
    "first 20 prime numbers.\n",
    "'''\n",
    "def prime_numbers():\n",
    "    num = 2\n",
    "    while True:\n",
    "        if is_prime(num):\n",
    "            yield num\n",
    "        num += 1\n",
    "\n",
    "def is_prime(n):\n",
    "    if n < 2:\n",
    "        return False\n",
    "    for i in range(2, int(n ** 0.5) + 1):\n",
    "        if n % i == 0:\n",
    "            return False\n",
    "    return True\n",
    "\n",
    "generator = prime_numbers()\n",
    "\n",
    "for _ in range(20):\n",
    "    prime = next(generator)\n",
    "    print(prime)    "
   ]
  },
  {
   "cell_type": "code",
   "execution_count": 15,
   "id": "4ccada5d-be10-47f5-8fbe-fec55701e697",
   "metadata": {},
   "outputs": [
    {
     "name": "stdout",
     "output_type": "stream",
     "text": [
      "0\n",
      "1\n",
      "1\n",
      "2\n",
      "3\n",
      "5\n",
      "8\n",
      "13\n",
      "21\n",
      "34\n"
     ]
    }
   ],
   "source": [
    "'''\n",
    "Q6. Write a python program to print the first 10 Fibonacci numbers using a while loop.\n",
    "'''\n",
    "a, b = 0, 1\n",
    "count = 0\n",
    "\n",
    "while count < 10:\n",
    "    print(a)\n",
    "    a, b = b, a + b\n",
    "    count += 1"
   ]
  },
  {
   "cell_type": "code",
   "execution_count": 16,
   "id": "78251480-eb82-43b6-b96e-adab72f093e2",
   "metadata": {},
   "outputs": [
    {
     "name": "stdout",
     "output_type": "stream",
     "text": [
      "['p', 'w', 's', 'k', 'i', 'l', 'l', 's']\n"
     ]
    }
   ],
   "source": [
    "'''\n",
    "Q7. Write a List Comprehension to iterate through the given string: ‘pwskills’.\n",
    "Expected output: ['p', 'w', 's', 'k', 'i', 'l', 'l', 's']\n",
    "'''\n",
    "\n",
    "string = 'pwskills'\n",
    "result = [char for char in string]\n",
    "print(result)\n"
   ]
  },
  {
   "cell_type": "code",
   "execution_count": 17,
   "id": "0e38a7c7-88ee-4fcd-870c-858996eedfb5",
   "metadata": {},
   "outputs": [
    {
     "name": "stdin",
     "output_type": "stream",
     "text": [
      "Enter a number:  258852\n"
     ]
    },
    {
     "name": "stdout",
     "output_type": "stream",
     "text": [
      "The number is a palindrome.\n"
     ]
    }
   ],
   "source": [
    "'''\n",
    "Q8. Write a python program to check whether a given number is Palindrome or not using a while loop.\n",
    "'''\n",
    "num = int(input(\"Enter a number: \"))\n",
    "original_num = num\n",
    "reverse_num = 0\n",
    "\n",
    "while num > 0:\n",
    "    remainder = num % 10\n",
    "    reverse_num = (reverse_num * 10) + remainder\n",
    "    num = num // 10\n",
    "\n",
    "if original_num == reverse_num:\n",
    "    print(\"The number is a palindrome.\")\n",
    "else:\n",
    "    print(\"The number is not a palindrome.\")\n"
   ]
  },
  {
   "cell_type": "code",
   "execution_count": 18,
   "id": "42b97b33-0450-49bd-97aa-905785b77172",
   "metadata": {},
   "outputs": [
    {
     "name": "stdout",
     "output_type": "stream",
     "text": [
      "[1, 3, 5, 7, 9, 11, 13, 15, 17, 19, 21, 23, 25, 27, 29, 31, 33, 35, 37, 39, 41, 43, 45, 47, 49, 51, 53, 55, 57, 59, 61, 63, 65, 67, 69, 71, 73, 75, 77, 79, 81, 83, 85, 87, 89, 91, 93, 95, 97, 99]\n"
     ]
    }
   ],
   "source": [
    "'''\n",
    "Q9. Write a code to print odd numbers from 1 to 100 using list comprehension.\n",
    "Note: Use a list comprehension to create a list from 1 to 100 and use another List comprehension to filter\n",
    "out odd numbers.\n",
    "'''\n",
    "numbers = [num for num in range(1, 101)]\n",
    "odd_numbers = [num for num in numbers if num % 2 != 0]\n",
    "print(odd_numbers)\n"
   ]
  },
  {
   "cell_type": "code",
   "execution_count": null,
   "id": "86328482-8c90-4859-9bc6-2d3fe1362e62",
   "metadata": {},
   "outputs": [],
   "source": []
  }
 ],
 "metadata": {
  "kernelspec": {
   "display_name": "Python 3 (ipykernel)",
   "language": "python",
   "name": "python3"
  },
  "language_info": {
   "codemirror_mode": {
    "name": "ipython",
    "version": 3
   },
   "file_extension": ".py",
   "mimetype": "text/x-python",
   "name": "python",
   "nbconvert_exporter": "python",
   "pygments_lexer": "ipython3",
   "version": "3.10.6"
  }
 },
 "nbformat": 4,
 "nbformat_minor": 5
}
