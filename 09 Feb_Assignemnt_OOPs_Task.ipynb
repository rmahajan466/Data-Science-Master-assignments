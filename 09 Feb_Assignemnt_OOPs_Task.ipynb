{
 "cells": [
  {
   "cell_type": "code",
   "execution_count": 1,
   "id": "9145448a-c321-49ec-a67b-3b736cdad9a8",
   "metadata": {},
   "outputs": [],
   "source": [
    "#Q1. Create a vehicle class with an init method having instance variables as name_of_vehicle, max_speed and average_of_vehicle."
   ]
  },
  {
   "cell_type": "code",
   "execution_count": 2,
   "id": "a0c82b6f-01dc-43ed-a724-e36e877094ca",
   "metadata": {},
   "outputs": [
    {
     "name": "stdout",
     "output_type": "stream",
     "text": [
      "Vehicle: Toyota Camry\n",
      "Max Speed: 180\n",
      "Average Fuel Consumption: 30\n"
     ]
    }
   ],
   "source": [
    "class Vehicle:\n",
    "    def __init__(self, name_of_vehicle, max_speed, average_of_vehicle):\n",
    "        self.name_of_vehicle = name_of_vehicle\n",
    "        self.max_speed = max_speed\n",
    "        self.average_of_vehicle = average_of_vehicle\n",
    "\n",
    "car = Vehicle(\"Toyota Camry\", 180, 30)\n",
    "print(\"Vehicle:\", car.name_of_vehicle)\n",
    "print(\"Max Speed:\", car.max_speed)\n",
    "print(\"Average Fuel Consumption:\", car.average_of_vehicle)\n"
   ]
  },
  {
   "cell_type": "code",
   "execution_count": 3,
   "id": "0b977d43-af5a-46c5-afaf-f0485cdacc56",
   "metadata": {},
   "outputs": [],
   "source": [
    "#Q2 Create a child class car from the vehicle class created in Que 1, which will inherit the vehicle class.\n",
    "#Create a method named seating_capacity which takes capacity as an argument and returns the name of the vehicle and its seating capacity."
   ]
  },
  {
   "cell_type": "code",
   "execution_count": 4,
   "id": "044114fa-b902-44a8-84fb-248062d946f2",
   "metadata": {},
   "outputs": [
    {
     "name": "stdout",
     "output_type": "stream",
     "text": [
      "Toyota Camry - Seating Capacity: 5\n"
     ]
    }
   ],
   "source": [
    "class Vehicle:\n",
    "    def __init__(self, name_of_vehicle, max_speed, average_of_vehicle):\n",
    "        self.name_of_vehicle = name_of_vehicle\n",
    "        self.max_speed = max_speed\n",
    "        self.average_of_vehicle = average_of_vehicle\n",
    "\n",
    "class Car(Vehicle):\n",
    "    def __init__(self, name_of_vehicle, max_speed, average_of_vehicle):\n",
    "        super().__init__(name_of_vehicle, max_speed, average_of_vehicle)\n",
    "\n",
    "    def seating_capacity(self, capacity):\n",
    "        return f\"{self.name_of_vehicle} - Seating Capacity: {capacity}\"\n",
    "\n",
    "my_car = Car(\"Toyota Camry\", 180, 30)\n",
    "print(my_car.seating_capacity(5))"
   ]
  },
  {
   "cell_type": "code",
   "execution_count": 6,
   "id": "a6566983-0dab-4d43-8ff7-5133d72f6796",
   "metadata": {},
   "outputs": [
    {
     "data": {
      "text/plain": [
       "'Ans) Multiple inheritance is a feature in object-oriented programming where a class can inherit attributes and \\nmethods from more than one parent class. \\nThis means that a child class can have multiple parent classes, and it inherits features from all of them.'"
      ]
     },
     "execution_count": 6,
     "metadata": {},
     "output_type": "execute_result"
    }
   ],
   "source": [
    "#Q3. What is multiple inheritance? Write a python code to demonstrate multiple inheritance.\n",
    "\"\"\"Ans) Multiple inheritance is a feature in object-oriented programming where a class can inherit attributes and \n",
    "methods from more than one parent class. \n",
    "This means that a child class can have multiple parent classes, and it inherits features from all of them.\"\"\""
   ]
  },
  {
   "cell_type": "code",
   "execution_count": 7,
   "id": "77d452f3-ccdf-4437-98a5-810602037aee",
   "metadata": {},
   "outputs": [
    {
     "name": "stdout",
     "output_type": "stream",
     "text": [
      "Sparrow says Chirp!\n",
      "Sparrow can fly\n"
     ]
    }
   ],
   "source": [
    "# Parent class 1\n",
    "class Animal:\n",
    "    def __init__(self, name):\n",
    "        self.name = name\n",
    "    \n",
    "    def speak(self):\n",
    "        raise NotImplementedError(\"Subclass must implement abstract method\")\n",
    "\n",
    "# Parent class 2\n",
    "class Flyable:\n",
    "    def fly(self):\n",
    "        return f\"{self.name} can fly\"\n",
    "\n",
    "# Child class inheriting from Animal and Flyable\n",
    "class Bird(Animal, Flyable):\n",
    "    def speak(self):\n",
    "        return f\"{self.name} says Chirp!\"\n",
    "\n",
    "# Create an instance of Bird\n",
    "my_bird = Bird(\"Sparrow\")\n",
    "\n",
    "# Access methods from Animal class\n",
    "print(my_bird.speak())\n",
    "\n",
    "# Access methods from Flyable class\n",
    "print(my_bird.fly())   \n"
   ]
  },
  {
   "cell_type": "code",
   "execution_count": 8,
   "id": "57707993-3f13-409d-af96-f7546e8c9fb8",
   "metadata": {},
   "outputs": [
    {
     "data": {
      "text/plain": [
       "' \\nAns) \\nGetter: A getter method is used to retrieve the value of a private attribute.\\nSetter: A setter method is used to set or update the value of a private attribute, usually with some form of validation or processing.\\n'"
      ]
     },
     "execution_count": 8,
     "metadata": {},
     "output_type": "execute_result"
    }
   ],
   "source": [
    "#Q4. What are getter and setter in python? Create a class and create a getter and a setter method in this class.\n",
    "\n",
    "\"\"\" \n",
    "Ans) \n",
    "Getter: A getter method is used to retrieve the value of a private attribute.\n",
    "Setter: A setter method is used to set or update the value of a private attribute, usually with some form of validation or processing.\n",
    "\"\"\""
   ]
  },
  {
   "cell_type": "code",
   "execution_count": 9,
   "id": "e7fe419d-2287-4482-b9f8-2aa971d10b11",
   "metadata": {},
   "outputs": [
    {
     "name": "stdout",
     "output_type": "stream",
     "text": [
      "Current Mileage: 0\n",
      "Updated Mileage: 5000\n",
      "Mileage cannot be negative.\n"
     ]
    }
   ],
   "source": [
    "class Car:\n",
    "    def __init__(self, make, model, year):\n",
    "        self.make = make\n",
    "        self.model = model\n",
    "        self.year = year\n",
    "        self.__mileage = 0 \n",
    "\n",
    "    def get_mileage(self):\n",
    "        return self.__mileage\n",
    "\n",
    "    def set_mileage(self, mileage):\n",
    "        if mileage >= 0:\n",
    "            self.__mileage = mileage\n",
    "        else:\n",
    "            print(\"Mileage cannot be negative.\")\n",
    "\n",
    "# Create an instance of Car\n",
    "my_car = Car(\"Toyota\", \"Camry\", 2020)\n",
    "\n",
    "# Use the getter method to retrieve mileage\n",
    "current_mileage = my_car.get_mileage()\n",
    "print(\"Current Mileage:\", current_mileage) \n",
    "\n",
    "# Use the setter method to update mileage\n",
    "my_car.set_mileage(5000)\n",
    "new_mileage = my_car.get_mileage()\n",
    "print(\"Updated Mileage:\", new_mileage)  \n",
    "\n",
    "# Try setting negative mileage (should not update)\n",
    "my_car.set_mileage(-100)  "
   ]
  },
  {
   "cell_type": "code",
   "execution_count": 11,
   "id": "986e8d81-8f44-473a-99f1-85577066ef85",
   "metadata": {},
   "outputs": [
    {
     "data": {
      "text/plain": [
       "' \\nAns)\\nMethod overriding in Python occurs when a subclass provides a specific implementation of a method that is already defined in its superclass. \\nThis allows a subclass to provide a specialized version of a method that is already defined in its superclass, \\neffectively replacing or extending the behavior of the superclass method.\\n'"
      ]
     },
     "execution_count": 11,
     "metadata": {},
     "output_type": "execute_result"
    }
   ],
   "source": [
    "#Q5.What is method overriding in python? Write a python code to demonstrate method overriding.\n",
    "\"\"\" \n",
    "Ans)\n",
    "Method overriding in Python occurs when a subclass provides a specific implementation of a method that is already defined in its superclass. \n",
    "This allows a subclass to provide a specialized version of a method that is already defined in its superclass, \n",
    "effectively replacing or extending the behavior of the superclass method.\n",
    "\"\"\""
   ]
  },
  {
   "cell_type": "code",
   "execution_count": 12,
   "id": "51e2fdc3-5c26-4941-9b70-87c94f9550b4",
   "metadata": {},
   "outputs": [
    {
     "name": "stdout",
     "output_type": "stream",
     "text": [
      "Some generic sound\n",
      "Bark bark!\n"
     ]
    }
   ],
   "source": [
    "class Animal:\n",
    "    def make_sound(self):\n",
    "        return \"Some generic sound\"\n",
    "\n",
    "class Dog(Animal):\n",
    "    def make_sound(self):\n",
    "        return \"Bark bark!\"\n",
    "\n",
    "# Create instances of Animal and Dog\n",
    "animal = Animal()\n",
    "dog = Dog()\n",
    "\n",
    "# Calling make_sound method on instances\n",
    "print(animal.make_sound()) \n",
    "print(dog.make_sound())\n"
   ]
  },
  {
   "cell_type": "code",
   "execution_count": null,
   "id": "d3279f30-ae3c-441e-8f16-07c8c6f81a8c",
   "metadata": {},
   "outputs": [],
   "source": []
  }
 ],
 "metadata": {
  "kernelspec": {
   "display_name": "Python 3 (ipykernel)",
   "language": "python",
   "name": "python3"
  },
  "language_info": {
   "codemirror_mode": {
    "name": "ipython",
    "version": 3
   },
   "file_extension": ".py",
   "mimetype": "text/x-python",
   "name": "python",
   "nbconvert_exporter": "python",
   "pygments_lexer": "ipython3",
   "version": "3.10.8"
  }
 },
 "nbformat": 4,
 "nbformat_minor": 5
}
