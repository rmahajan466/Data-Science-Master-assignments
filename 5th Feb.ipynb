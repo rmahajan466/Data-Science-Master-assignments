{
 "cells": [
  {
   "cell_type": "code",
   "execution_count": 2,
   "id": "b3699cd1-18f0-4b63-a5dd-c04bccc74312",
   "metadata": {},
   "outputs": [
    {
     "name": "stdout",
     "output_type": "stream",
     "text": [
      "The Toyota Camry is driving.\n"
     ]
    }
   ],
   "source": [
    "'''\n",
    "Q1. Explain Class and Object with respect to Object-Oriented Programming. Give a suitable example.\n",
    "'''\n",
    "'''\n",
    "n object-oriented programming (OOP), a class is a blueprint or template for creating objects, while an object is an instance of a class.\n",
    "\n",
    "A class defines the characteristics (attributes) and behaviors (methods) that an object will have. It encapsulates data and functions into a single entity. The attributes represent the state of the object, while the methods define the operations that can be performed on the object.\n",
    "'''\n",
    "class Car:\n",
    "    def __init__(self, brand, model, color):\n",
    "        self.brand = brand\n",
    "        self.model = model\n",
    "        self.color = color\n",
    "\n",
    "    def drive(self):\n",
    "        print(f\"The {self.brand} {self.model} is driving.\")\n",
    "\n",
    "    def stop(self):\n",
    "        print(f\"The {self.brand} {self.model} has stopped.\")\n",
    "\n",
    "        \n",
    "my_car = Car(\"Toyota\", \"Camry\", \"Blue\")\n",
    "my_car.drive()\n",
    "\n"
   ]
  },
  {
   "cell_type": "code",
   "execution_count": 3,
   "id": "e1dce12b-ce6f-4cc3-bbf6-e47eb441a7f4",
   "metadata": {},
   "outputs": [
    {
     "data": {
      "text/plain": [
       "'\\nThe four pillars of object-oriented programming (OOP) are:\\n\\n1. Encapsulation: Encapsulation is the process of combining data (attributes) and the methods (behaviors) that operate on that data into a single unit called a class. It allows data hiding and abstraction, as the internal details of the class are hidden from the outside and can only be accessed through defined methods.\\n\\n2. Inheritance: Inheritance allows the creation of new classes (derived classes) based on existing classes (base or parent classes). The derived class inherits the attributes and methods of the base class, which promotes code reuse and the creation of hierarchical relationships between classes.\\n\\n3. Polymorphism: Polymorphism refers to the ability of objects of different classes to respond to the same message (method call) in different ways. It allows objects of different types to be treated as objects of a common superclass, providing flexibility and extensibility in the code.\\n\\n4. Abstraction: Abstraction involves the creation of simplified models or representations of complex real-world objects or systems. It focuses on essential characteristics and behaviors while hiding unnecessary details. Abstraction allows programmers to deal with concepts rather than specific implementations, making code more modular and easier to maintain.\\n\\nThese four pillars form the foundation of object-oriented programming and enable the development of efficient, modular, and reusable code.\\n'"
      ]
     },
     "execution_count": 3,
     "metadata": {},
     "output_type": "execute_result"
    }
   ],
   "source": [
    "'''\n",
    "Q2. Name the four pillars of OOPs.\n",
    "'''\n",
    "'''\n",
    "The four pillars of object-oriented programming (OOP) are:\n",
    "\n",
    "1. Encapsulation: Encapsulation is the process of combining data (attributes) and the methods (behaviors) that operate on that data into a single unit called a class. It allows data hiding and abstraction, as the internal details of the class are hidden from the outside and can only be accessed through defined methods.\n",
    "\n",
    "2. Inheritance: Inheritance allows the creation of new classes (derived classes) based on existing classes (base or parent classes). The derived class inherits the attributes and methods of the base class, which promotes code reuse and the creation of hierarchical relationships between classes.\n",
    "\n",
    "3. Polymorphism: Polymorphism refers to the ability of objects of different classes to respond to the same message (method call) in different ways. It allows objects of different types to be treated as objects of a common superclass, providing flexibility and extensibility in the code.\n",
    "\n",
    "4. Abstraction: Abstraction involves the creation of simplified models or representations of complex real-world objects or systems. It focuses on essential characteristics and behaviors while hiding unnecessary details. Abstraction allows programmers to deal with concepts rather than specific implementations, making code more modular and easier to maintain.\n",
    "\n",
    "These four pillars form the foundation of object-oriented programming and enable the development of efficient, modular, and reusable code.\n",
    "'''"
   ]
  },
  {
   "cell_type": "code",
   "execution_count": 4,
   "id": "3ebbdf07-9e34-4da4-8dc7-87e40be1f26b",
   "metadata": {},
   "outputs": [
    {
     "name": "stdout",
     "output_type": "stream",
     "text": [
      "My name is John, and I am 25 years old.\n"
     ]
    }
   ],
   "source": [
    "'''\n",
    "Q3. Explain why the __init__() function is used. Give a suitable example.\n",
    "'''\n",
    "\n",
    "'''\n",
    "The __init__() function is a special method in Python classes. It is known as the constructor and is automatically called when an object is created from a class. The primary purpose of the __init__() method is to initialize the attributes of an object.\n",
    "'''\n",
    "class Person:\n",
    "    def __init__(self, name, age):\n",
    "        self.name = name\n",
    "        self.age = age\n",
    "\n",
    "    def introduce(self):\n",
    "        print(f\"My name is {self.name}, and I am {self.age} years old.\")\n",
    "\n",
    "# Creating an object of the Person class\n",
    "person = Person(\"John\", 25)\n",
    "\n",
    "# Calling the introduce() method\n",
    "person.introduce()\n"
   ]
  },
  {
   "cell_type": "code",
   "execution_count": null,
   "id": "05e049c0-cedb-485a-be43-1d23e42ffef4",
   "metadata": {},
   "outputs": [],
   "source": [
    "'''\n",
    "Q4. Why self is used in OOPs?\n",
    "'''\n",
    "'''\n",
    "In object-oriented programming (OOP), the self keyword is used as a convention to refer to the instance of a class within its own methods. It acts as a reference to the current object, allowing you to access its attributes and methods.\n",
    "'''"
   ]
  },
  {
   "cell_type": "code",
   "execution_count": null,
   "id": "480409d9-2d8c-4559-9ed5-02c016e31f96",
   "metadata": {},
   "outputs": [],
   "source": [
    "'''\n",
    "Q5. What is inheritance? Give an example for each type of inheritance.\n",
    "'''\n",
    "'''\n",
    "Inheritance is a fundamental concept in object-oriented programming (OOP) that allows you to create new classes (derived classes or subclasses) based on existing classes (base classes or superclasses). The derived class inherits the attributes and methods of the base class, which promotes code reuse and the creation of hierarchical relationships between classes.\n",
    "\n",
    "There are different types of inheritance:\n",
    "\n",
    "1) Single Inheritance: In single inheritance, a derived class inherits from a single base class. It forms a one-to-one hierarchical relationship between the classes.\n",
    "\n",
    "2) Multiple Inheritance: Multiple inheritance allows a derived class to inherit from multiple base classes. It enables a derived class to inherit attributes and methods from multiple sources.\n",
    "\n",
    "3) Multilevel Inheritance: Multilevel inheritance involves creating a derived class from another derived class. It forms a hierarchical chain of classes\n",
    "\n",
    "'''"
   ]
  },
  {
   "cell_type": "code",
   "execution_count": 5,
   "id": "85400bc3-b828-4a1e-8949-f21004bbd852",
   "metadata": {},
   "outputs": [
    {
     "name": "stdout",
     "output_type": "stream",
     "text": [
      "Animal is eating.\n",
      "Dog is barking.\n"
     ]
    }
   ],
   "source": [
    "#Single Inheritance\n",
    "class Animal:\n",
    "    def eat(self):\n",
    "        print(\"Animal is eating.\")\n",
    "\n",
    "class Dog(Animal):\n",
    "    def bark(self):\n",
    "        print(\"Dog is barking.\")\n",
    "\n",
    "dog = Dog()\n",
    "dog.eat()  # Inherits the eat() method from the Animal class\n",
    "dog.bark()  # Uses the bark() method defined in the Dog class\n"
   ]
  },
  {
   "cell_type": "code",
   "execution_count": 6,
   "id": "5276dbfa-6dfb-4b5e-a891-1d2e6222bf89",
   "metadata": {},
   "outputs": [
    {
     "name": "stdout",
     "output_type": "stream",
     "text": [
      "Vehicle started.\n",
      "Car stopped.\n",
      "Sports car accelerating.\n"
     ]
    }
   ],
   "source": [
    "#Multiple Inheritance\n",
    "class Vehicle:\n",
    "    def start(self):\n",
    "        print(\"Vehicle started.\")\n",
    "\n",
    "class Car:\n",
    "    def stop(self):\n",
    "        print(\"Car stopped.\")\n",
    "\n",
    "class SportsCar(Vehicle, Car):\n",
    "    def accelerate(self):\n",
    "        print(\"Sports car accelerating.\")\n",
    "\n",
    "sports_car = SportsCar()\n",
    "sports_car.start()  # Inherits the start() method from the Vehicle class\n",
    "sports_car.stop()  # Inherits the stop() method from the Car class\n",
    "sports_car.accelerate()  # Uses the accelerate() method defined in the SportsCar class\n"
   ]
  },
  {
   "cell_type": "code",
   "execution_count": 7,
   "id": "7cde1e48-f7d3-4ca3-a48b-9c13c944c31a",
   "metadata": {},
   "outputs": [
    {
     "name": "stdout",
     "output_type": "stream",
     "text": [
      "Animal is eating.\n",
      "Dog is barking.\n",
      "Labrador is playing.\n"
     ]
    }
   ],
   "source": [
    "#Multilevel Inheritance\n",
    "class Animal:\n",
    "    def eat(self):\n",
    "        print(\"Animal is eating.\")\n",
    "\n",
    "class Dog(Animal):\n",
    "    def bark(self):\n",
    "        print(\"Dog is barking.\")\n",
    "\n",
    "class Labrador(Dog):\n",
    "    def play(self):\n",
    "        print(\"Labrador is playing.\")\n",
    "\n",
    "labrador = Labrador()\n",
    "labrador.eat()  # Inherits the eat() method from the Animal class\n",
    "labrador.bark()  # Inherits the bark() method from the Dog class\n",
    "labrador.play()  # Uses the play() method defined in the Labrador class\n"
   ]
  },
  {
   "cell_type": "code",
   "execution_count": null,
   "id": "aaaab0be-ac08-4239-9869-d0deb82dfafd",
   "metadata": {},
   "outputs": [],
   "source": []
  }
 ],
 "metadata": {
  "kernelspec": {
   "display_name": "Python 3 (ipykernel)",
   "language": "python",
   "name": "python3"
  },
  "language_info": {
   "codemirror_mode": {
    "name": "ipython",
    "version": 3
   },
   "file_extension": ".py",
   "mimetype": "text/x-python",
   "name": "python",
   "nbconvert_exporter": "python",
   "pygments_lexer": "ipython3",
   "version": "3.10.6"
  }
 },
 "nbformat": 4,
 "nbformat_minor": 5
}
