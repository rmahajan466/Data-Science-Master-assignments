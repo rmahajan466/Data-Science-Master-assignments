{
 "cells": [
  {
   "cell_type": "code",
   "execution_count": 1,
   "id": "db5b1bbc-d007-4028-82aa-07ac9e1745d4",
   "metadata": {},
   "outputs": [],
   "source": [
    "#Q1. List any five functions of the pandas library with execution."
   ]
  },
  {
   "cell_type": "code",
   "execution_count": 1,
   "id": "1b53c795-8907-4607-96ce-6bc48d4a4768",
   "metadata": {},
   "outputs": [
    {
     "name": "stdout",
     "output_type": "stream",
     "text": [
      "   PassengerId  Survived  Pclass  \\\n",
      "0            1         0       3   \n",
      "1            2         1       1   \n",
      "2            3         1       3   \n",
      "3            4         1       1   \n",
      "4            5         0       3   \n",
      "\n",
      "                                                Name     Sex   Age  SibSp  \\\n",
      "0                            Braund, Mr. Owen Harris    male  22.0      1   \n",
      "1  Cumings, Mrs. John Bradley (Florence Briggs Th...  female  38.0      1   \n",
      "2                             Heikkinen, Miss. Laina  female  26.0      0   \n",
      "3       Futrelle, Mrs. Jacques Heath (Lily May Peel)  female  35.0      1   \n",
      "4                           Allen, Mr. William Henry    male  35.0      0   \n",
      "\n",
      "   Parch            Ticket     Fare Cabin Embarked  \n",
      "0      0         A/5 21171   7.2500   NaN        S  \n",
      "1      0          PC 17599  71.2833   C85        C  \n",
      "2      0  STON/O2. 3101282   7.9250   NaN        S  \n",
      "3      0            113803  53.1000  C123        S  \n",
      "4      0            373450   8.0500   NaN        S  \n",
      "      Name  Age         City\n",
      "0    Alice   25     New York\n",
      "1      Bob   30  Los Angeles\n",
      "2  Charlie   35      Chicago\n",
      "<class 'pandas.core.frame.DataFrame'>\n",
      "RangeIndex: 4 entries, 0 to 3\n",
      "Data columns (total 3 columns):\n",
      " #   Column  Non-Null Count  Dtype \n",
      "---  ------  --------------  ----- \n",
      " 0   Name    4 non-null      object\n",
      " 1   Age     4 non-null      int64 \n",
      " 2   City    4 non-null      object\n",
      "dtypes: int64(1), object(2)\n",
      "memory usage: 224.0+ bytes\n",
      "City\n",
      "Chicago        55000.0\n",
      "Houston        62000.0\n",
      "Los Angeles    60000.0\n",
      "New York       50000.0\n",
      "Name: Salary, dtype: float64\n",
      "  employee   department  age\n",
      "0    Alice           HR   25\n",
      "1      Bob  Engineering   30\n"
     ]
    }
   ],
   "source": [
    "#Five functions from the pandas library along with examples of their usage:\n",
    "\n",
    "#1. read_csv(): This function is used to read data from a CSV file into a DataFrame.\n",
    "\n",
    "import pandas as pd\n",
    "\n",
    "# Reading a CSV file into a DataFrame\n",
    "df = pd.read_csv('https://raw.githubusercontent.com/datasciencedojo/datasets/master/titanic.csv')\n",
    "print(df.head())  # Display the first few rows of the DataFrame\n",
    "\n",
    "#2. head(): This function is used to display the first few rows of a DataFrame.\n",
    "\n",
    "import pandas as pd\n",
    "\n",
    "# Creating a DataFrame\n",
    "data = {'Name': ['Alice', 'Bob', 'Charlie', 'David'],\n",
    "        'Age': [25, 30, 35, 40],\n",
    "        'City': ['New York', 'Los Angeles', 'Chicago', 'Houston']}\n",
    "df = pd.DataFrame(data)\n",
    "\n",
    "# Displaying the first 3 rows of the DataFrame\n",
    "print(df.head(3))\n",
    "\n",
    "#3. info(): This function provides a concise summary of a DataFrame, including column data types and non-null values.\n",
    "\n",
    "#import pandas as pd\n",
    "\n",
    "# Creating a DataFrame\n",
    "data = {'Name': ['Alice', 'Bob', 'Charlie', 'David'],\n",
    "        'Age': [25, 30, 35, 40],\n",
    "        'City': ['New York', 'Los Angeles', 'Chicago', 'Houston']}\n",
    "df = pd.DataFrame(data)\n",
    "\n",
    "# Displaying information about the DataFrame\n",
    "df.info()\n",
    "\n",
    "\n",
    "#4. groupby(): This function is used for grouping data in a DataFrame and applying aggregation functions.\n",
    "\n",
    "\n",
    "#import pandas as pd\n",
    "\n",
    "# Creating a DataFrame\n",
    "data = {'Name': ['Alice', 'Bob', 'Charlie', 'David'],\n",
    "        'City': ['New York', 'Los Angeles', 'Chicago', 'Houston'],\n",
    "        'Salary': [50000, 60000, 55000, 62000]}\n",
    "df = pd.DataFrame(data)\n",
    "\n",
    "# Grouping the DataFrame by 'City' and calculating average salary\n",
    "avg_salary_by_city = df.groupby('City')['Salary'].mean()\n",
    "print(avg_salary_by_city)\n",
    "\n",
    "#5. merge(): This function is used to merge two DataFrames based on a common key.\n",
    "\n",
    "#import pandas as pd\n",
    "\n",
    "# Creating two DataFrames\n",
    "df1 = pd.DataFrame({'employee': ['Alice', 'Bob', 'Charlie'],\n",
    "                    'department': ['HR', 'Engineering', 'Marketing']})\n",
    "df2 = pd.DataFrame({'employee': ['Alice', 'Bob', 'David'],\n",
    "                    'age': [25, 30, 40]})\n",
    "\n",
    "# Merging the DataFrames based on 'employee'\n",
    "merged_df = pd.merge(df1, df2, on='employee')\n",
    "print(merged_df)"
   ]
  },
  {
   "cell_type": "code",
   "execution_count": 2,
   "id": "12c2f1ee-f868-4c83-a227-596a07b9b85d",
   "metadata": {},
   "outputs": [],
   "source": [
    "#Q2. Given a Pandas DataFrame df with columns 'A', 'B', and 'C', write a Python function to re-index the\n",
    "#DataFrame with a new index that starts from 1 and increments by 2 for each row."
   ]
  },
  {
   "cell_type": "code",
   "execution_count": 4,
   "id": "e9308618-30da-407f-a3cf-a7c092647151",
   "metadata": {},
   "outputs": [
    {
     "name": "stdout",
     "output_type": "stream",
     "text": [
      "    A   B    C\n",
      "0  10  50   90\n",
      "1  20  60  100\n",
      "2  30  70  110\n",
      "3  40  80  120\n",
      "    A   B    C\n",
      "1  10  50   90\n",
      "3  20  60  100\n",
      "5  30  70  110\n",
      "7  40  80  120\n"
     ]
    }
   ],
   "source": [
    "import pandas as pd\n",
    "\n",
    "def reindex_with_incrementing_index(df):\n",
    "    # Resetting the index and setting the new index using a lambda function\n",
    "    new_index = df.reset_index(drop=True).index.map(lambda x: 1 + 2 * x)\n",
    "    df.index = new_index\n",
    "    return df\n",
    "\n",
    "# Example usage:\n",
    "# Assuming 'df' is your existing DataFrame with columns 'A', 'B', 'C'\n",
    "data = {\n",
    "    'A': [10, 20, 30, 40],\n",
    "    'B': [50, 60, 70, 80],\n",
    "    'C': [90, 100, 110, 120]\n",
    "}\n",
    "df = pd.DataFrame(data)\n",
    "\n",
    "#Data before re-Indexing\n",
    "print(df)\n",
    "\n",
    "# Re-indexing the DataFrame with the new index\n",
    "df_reindexed = reindex_with_incrementing_index(df)\n",
    "print(df_reindexed)\n"
   ]
  },
  {
   "cell_type": "code",
   "execution_count": 5,
   "id": "68515b57-2071-45e8-aeec-f21846d890c6",
   "metadata": {},
   "outputs": [],
   "source": [
    "#Q3. You have a Pandas DataFrame df with a column named 'Values'. Write a Python function that\n",
    "#iterates over the DataFrame and calculates the sum of the first three values in the 'Values' column. \n",
    "#The function should print the sum to the console.\n",
    "\n",
    "#For example, if the 'Values' column of df contains the values [10, 20, 30, 40, 50], your function should\n",
    "#calculate and print the sum of the first three values, which is 60."
   ]
  },
  {
   "cell_type": "code",
   "execution_count": 6,
   "id": "ec8ab8e0-514f-4fba-904c-af1662ec7b53",
   "metadata": {},
   "outputs": [
    {
     "name": "stdout",
     "output_type": "stream",
     "text": [
      "Sum of the first three values: 60\n"
     ]
    }
   ],
   "source": [
    "import pandas as pd\n",
    "\n",
    "def calculate_sum_of_first_three_values(df):\n",
    "    # Check if 'Values' column exists in the DataFrame\n",
    "    if 'Values' not in df.columns:\n",
    "        print(\"Error: 'Values' column not found in the DataFrame.\")\n",
    "        return\n",
    "    \n",
    "    # Get the 'Values' column and extract the first three values\n",
    "    values_column = df['Values']\n",
    "    first_three_values = values_column.head(3)  # Select the first three values\n",
    "    \n",
    "    # Calculate the sum of the first three values\n",
    "    sum_first_three_values = first_three_values.sum()\n",
    "    \n",
    "    # Print the sum to the console\n",
    "    print(\"Sum of the first three values:\", sum_first_three_values)\n",
    "\n",
    "# Example usage:\n",
    "# Assuming 'df' is your DataFrame with a column named 'Values'\n",
    "data = {'Values': [10, 20, 30, 40, 50]}\n",
    "df = pd.DataFrame(data)\n",
    "\n",
    "# Call the function to calculate the sum of the first three values in the 'Values' column\n",
    "calculate_sum_of_first_three_values(df)\n"
   ]
  },
  {
   "cell_type": "code",
   "execution_count": 7,
   "id": "8281185c-362d-4cac-9365-a0b17c6edb45",
   "metadata": {},
   "outputs": [],
   "source": [
    "#Q4. Given a Pandas DataFrame df with a column 'Text', write a Python function to create a new column 'Word_Count' that contains the number of words in each row of the 'Text' column."
   ]
  },
  {
   "cell_type": "code",
   "execution_count": 8,
   "id": "de3883a5-103f-4d9d-9460-fb887f47e31d",
   "metadata": {},
   "outputs": [
    {
     "name": "stdout",
     "output_type": "stream",
     "text": [
      "                   Text  Word_Count\n",
      "0           Hello world           2\n",
      "1     Python is awesome           3\n",
      "2  Data science is fun!           4\n"
     ]
    }
   ],
   "source": [
    "import pandas as pd\n",
    "\n",
    "def count_words_in_text_column(df):\n",
    "    # Check if 'Text' column exists in the DataFrame\n",
    "    if 'Text' not in df.columns:\n",
    "        print(\"Error: 'Text' column not found in the DataFrame.\")\n",
    "        return\n",
    "    \n",
    "    # Function to count words in a given text\n",
    "    def count_words(text):\n",
    "        # Split the text into words using whitespace as the delimiter\n",
    "        words = text.split()\n",
    "        # Return the number of words\n",
    "        return len(words)\n",
    "    \n",
    "    # Apply the count_words function to each row in the 'Text' column\n",
    "    df['Word_Count'] = df['Text'].apply(count_words)\n",
    "    \n",
    "    # Optionally, display the DataFrame with the new 'Word_Count' column\n",
    "    print(df)\n",
    "\n",
    "# Example usage:\n",
    "# Assuming 'df' is your DataFrame with a column named 'Text'\n",
    "data = {'Text': ['Hello world', 'Python is awesome', 'Data science is fun!']}\n",
    "df = pd.DataFrame(data)\n",
    "\n",
    "# Call the function to create a new 'Word_Count' column based on the 'Text' column\n",
    "count_words_in_text_column(df)\n"
   ]
  },
  {
   "cell_type": "code",
   "execution_count": 9,
   "id": "7cd58575-08df-42cd-9725-17db0955ea11",
   "metadata": {},
   "outputs": [],
   "source": [
    "#Q5. How are DataFrame.size() and DataFrame.shape() different?"
   ]
  },
  {
   "cell_type": "code",
   "execution_count": null,
   "id": "8dab5e53-515f-473d-b3ce-8d9d0dba8393",
   "metadata": {},
   "outputs": [],
   "source": [
    "DataFrame.size() and DataFrame.shape() are two distinct methods in pandas DataFrame, and they serve different purposes:\n",
    "\n",
    "DataFrame.size():\n",
    "\n",
    "-> DataFrame.size() returns the total number of elements in the DataFrame, which is equivalent to the product of the number of rows and columns.\n",
    "\n",
    "-> The returned value is an integer representing the total number of elements (cells) in the DataFrame.\n",
    "\n",
    "-> The size of the DataFrame is calculated as number of rows × number of columns.\n",
    "\n",
    "-> This method does not provide information about the structure of the DataFrame (i.e., the number of rows and columns separately).\n",
    "\n",
    "DataFrame.shape():\n",
    "\n",
    "-> DataFrame.shape() returns a tuple representing the dimensions of the DataFrame.\n",
    "\n",
    "-> The returned tuple contains two elements: the number of rows and the number of columns in the DataFrame.\n",
    "\n",
    "-> The shape of the DataFrame is presented as (number of rows, number of columns).\n",
    "\n",
    "-> This method provides a convenient way to access and understand the structure (dimensionality) of the DataFrame."
   ]
  },
  {
   "cell_type": "code",
   "execution_count": null,
   "id": "00d49a5c-d6ef-440d-bf3b-f24e7f3af7a6",
   "metadata": {},
   "outputs": [],
   "source": [
    "#Q6. Which function of pandas do we use to read an excel file?\n",
    "\n",
    "read_excel() is used to read excel files in pandas"
   ]
  },
  {
   "cell_type": "code",
   "execution_count": 10,
   "id": "786ee555-6910-4dbb-830a-eee7e5fc696d",
   "metadata": {},
   "outputs": [],
   "source": [
    "#Q7. You have a Pandas DataFrame df that contains a column named 'Email' that contains email\n",
    "#addresses in the format 'username@domain.com'. Write a Python function that creates a new column\n",
    "#'Username' in df that contains only the username part of each email address."
   ]
  },
  {
   "cell_type": "code",
   "execution_count": 12,
   "id": "0df8b78f-1d48-4653-bea1-d6193bb916a1",
   "metadata": {},
   "outputs": [
    {
     "name": "stdout",
     "output_type": "stream",
     "text": [
      "                Email Username\n",
      "0  raghav@example.com   raghav\n",
      "1     rahul@gmail.com    rahul\n",
      "2      raj@domain.com      raj\n"
     ]
    }
   ],
   "source": [
    "import pandas as pd\n",
    "\n",
    "def extract_username_from_email(df):\n",
    "    # Check if 'Email' column exists in the DataFrame\n",
    "    if 'Email' not in df.columns:\n",
    "        print(\"Error: 'Email' column not found in the DataFrame.\")\n",
    "        return\n",
    "    \n",
    "    # Extracting username from each email address\n",
    "    df['Username'] = df['Email'].str.split('@').str[0]\n",
    "    \n",
    "    # Optionally, display the DataFrame with the new 'Username' column\n",
    "    print(df)\n",
    "\n",
    "# Example usage:\n",
    "# Assuming 'df' is your DataFrame with a column named 'Email'\n",
    "data = {'Email': ['raghav@example.com', 'rahul@gmail.com', 'raj@domain.com']}\n",
    "df = pd.DataFrame(data)\n",
    "\n",
    "# Call the function to extract usernames from the 'Email' column and create a new 'Username' column\n",
    "extract_username_from_email(df)\n"
   ]
  },
  {
   "cell_type": "code",
   "execution_count": null,
   "id": "d6dd6bc4-ff25-45ce-8f73-7f5ca1cd007c",
   "metadata": {},
   "outputs": [],
   "source": [
    "Q8. You have a Pandas DataFrame df with columns 'A', 'B', and 'C'. Write a Python function that selects\n",
    "all rows where the value in column 'A' is greater than 5 and the value in column 'B' is less than 10. \n",
    "The function should return a new DataFrame that contains only the selected rows.\n",
    "For example, if df contains the following values:\n",
    "A B C\n",
    "0 3 5 1\n",
    "1 8 2 7\n",
    "2 6 9 4\n",
    "3 2 3 5\n",
    "4 9 1 2\n",
    "Your function should select the following rows: A B C\n",
    "1 8 2 7\n",
    "4 9 1 2\n",
    "The function should return a new DataFrame that contains only the selected rows."
   ]
  },
  {
   "cell_type": "code",
   "execution_count": 13,
   "id": "cfb2d9c6-cde9-45d1-88c5-ee7e0c548181",
   "metadata": {},
   "outputs": [
    {
     "name": "stdout",
     "output_type": "stream",
     "text": [
      "   A  B  C\n",
      "1  8  2  7\n",
      "2  6  9  4\n",
      "4  9  1  2\n"
     ]
    }
   ],
   "source": [
    "import pandas as pd\n",
    "\n",
    "def filter_dataframe(df):\n",
    "    # Check if 'A' and 'B' columns exist in the DataFrame\n",
    "    if 'A' not in df.columns or 'B' not in df.columns:\n",
    "        print(\"Error: Columns 'A' or 'B' not found in the DataFrame.\")\n",
    "        return\n",
    "    \n",
    "    # Apply boolean indexing to filter rows\n",
    "    filtered_df = df[(df['A'] > 5) & (df['B'] < 10)]\n",
    "    \n",
    "    # Optionally, display the filtered DataFrame\n",
    "    print(filtered_df)\n",
    "    return filtered_df  # Return the filtered DataFrame if needed\n",
    "\n",
    "# Example usage:\n",
    "# Assuming 'df' is your DataFrame with columns 'A', 'B', and 'C'\n",
    "data = {'A': [3, 8, 6, 2, 9],\n",
    "        'B': [5, 2, 9, 3, 1],\n",
    "        'C': [1, 7, 4, 5, 2]}\n",
    "df = pd.DataFrame(data)\n",
    "\n",
    "# Call the function to filter rows based on conditions in columns 'A' and 'B'\n",
    "filtered_result = filter_dataframe(df)\n"
   ]
  },
  {
   "cell_type": "code",
   "execution_count": 14,
   "id": "7cb06a1c-f033-4c60-a63c-421531a0639e",
   "metadata": {},
   "outputs": [],
   "source": [
    "#Q9. Given a Pandas DataFrame df with a column 'Values', write a Python function to calculate the mean,\n",
    "#median, and standard deviation of the values in the 'Values' column."
   ]
  },
  {
   "cell_type": "code",
   "execution_count": 15,
   "id": "b451b83f-276b-4c81-b30d-a727144547a7",
   "metadata": {},
   "outputs": [
    {
     "name": "stdout",
     "output_type": "stream",
     "text": [
      "Mean of 'Values' column: 30.00\n",
      "Median of 'Values' column: 30.00\n",
      "Standard Deviation of 'Values' column: 15.81\n"
     ]
    }
   ],
   "source": [
    "import pandas as pd\n",
    "\n",
    "def calculate_stats(df):\n",
    "    # Check if 'Values' column exists in the DataFrame\n",
    "    if 'Values' not in df.columns:\n",
    "        print(\"Error: 'Values' column not found in the DataFrame.\")\n",
    "        return\n",
    "    \n",
    "    # Calculate mean, median, and standard deviation of 'Values' column\n",
    "    mean_value = df['Values'].mean()\n",
    "    median_value = df['Values'].median()\n",
    "    std_dev_value = df['Values'].std()\n",
    "    \n",
    "    # Print the calculated statistics\n",
    "    print(f\"Mean of 'Values' column: {mean_value:.2f}\")\n",
    "    print(f\"Median of 'Values' column: {median_value:.2f}\")\n",
    "    print(f\"Standard Deviation of 'Values' column: {std_dev_value:.2f}\")\n",
    "\n",
    "# Example usage:\n",
    "# Assuming 'df' is your DataFrame with a column named 'Values'\n",
    "data = {'Values': [10, 20, 30, 40, 50]}\n",
    "df = pd.DataFrame(data)\n",
    "\n",
    "# Call the function to calculate statistics for the 'Values' column\n",
    "calculate_stats(df)"
   ]
  },
  {
   "cell_type": "code",
   "execution_count": 16,
   "id": "43959a6f-2735-4cad-a189-de8b401ce304",
   "metadata": {},
   "outputs": [],
   "source": [
    "#Q10. Given a Pandas DataFrame df with a column 'Sales' and a column 'Date', write a Python function to create a new column 'MovingAverage' that contains the moving average of the sales for the past 7 days for each row in the DataFrame. The moving average should be calculated using a window of size 7 and should include the current day"
   ]
  },
  {
   "cell_type": "code",
   "execution_count": 17,
   "id": "81dfc73b-ba8a-406b-b705-b3d0b6be2e61",
   "metadata": {},
   "outputs": [
    {
     "name": "stdout",
     "output_type": "stream",
     "text": [
      "         Date  Sales  MovingAverage\n",
      "0  2024-05-01    100     100.000000\n",
      "1  2024-05-02    110     105.000000\n",
      "2  2024-05-03     95     101.666667\n",
      "3  2024-05-04    120     106.250000\n",
      "4  2024-05-05    105     106.000000\n",
      "5  2024-05-06    115     107.500000\n",
      "6  2024-05-07    125     110.000000\n",
      "7  2024-05-08    130     114.285714\n",
      "8  2024-05-09    135     117.857143\n",
      "9  2024-05-10    140     124.285714\n",
      "10 2024-05-11    120     124.285714\n",
      "11 2024-05-12    125     127.142857\n"
     ]
    }
   ],
   "source": [
    "import pandas as pd\n",
    "\n",
    "def calculate_moving_average(df):\n",
    "    # Check if 'Sales' and 'Date' columns exist in the DataFrame\n",
    "    if 'Sales' not in df.columns or 'Date' not in df.columns:\n",
    "        print(\"Error: 'Sales' or 'Date' column not found in the DataFrame.\")\n",
    "        return\n",
    "    \n",
    "    # Convert 'Date' column to datetime type (if it's not already)\n",
    "    df['Date'] = pd.to_datetime(df['Date'])\n",
    "    \n",
    "    # Sort DataFrame by 'Date' column (in case it's not already sorted)\n",
    "    df = df.sort_values(by='Date')\n",
    "    \n",
    "    # Calculate moving average of 'Sales' over a window of 7 days\n",
    "    df['MovingAverage'] = df['Sales'].rolling(window=7, min_periods=1).mean()\n",
    "    \n",
    "    # Optionally, display the DataFrame with the new 'MovingAverage' column\n",
    "    print(df)\n",
    "\n",
    "# Example usage:\n",
    "# Assuming 'df' is your DataFrame with columns 'Sales' and 'Date'\n",
    "data = {\n",
    "    'Date': ['2024-05-01', '2024-05-02', '2024-05-03', '2024-05-04', '2024-05-05', '2024-05-06', '2024-05-07',\n",
    "             '2024-05-08', '2024-05-09', '2024-05-10', '2024-05-11', '2024-05-12'],\n",
    "    'Sales': [100, 110, 95, 120, 105, 115, 125, 130, 135, 140, 120, 125]\n",
    "}\n",
    "df = pd.DataFrame(data)\n",
    "\n",
    "# Call the function to calculate moving average of 'Sales' over the past 7 days\n",
    "calculate_moving_average(df)"
   ]
  },
  {
   "cell_type": "code",
   "execution_count": null,
   "id": "0cabff0d-2058-4211-b029-033cb47554b5",
   "metadata": {},
   "outputs": [],
   "source": [
    "Q11. You have a Pandas DataFrame df with a column 'Date'. Write a Python function that creates a new\n",
    "column 'Weekday' in the DataFrame. The 'Weekday' column should contain the weekday name (e.g.\n",
    "Monday, Tuesday) corresponding to each date in the 'Date' column.\n",
    "For example, if df contains the following values:\n",
    "Date\n",
    "0 2023-01-01\n",
    "1 2023-01-02\n",
    "2 2023-01-03\n",
    "3 2023-01-04\n",
    "4 2023-01-05\n",
    "Your function should create the following DataFrame:\n",
    "\n",
    "Date Weekday\n",
    "0 2023-01-01 Sunday\n",
    "1 2023-01-02 Monday\n",
    "2 2023-01-03 Tuesday\n",
    "3 2023-01-04 Wednesday\n",
    "4 2023-01-05 Thursday\n",
    "The function should return the modified DataFrame."
   ]
  },
  {
   "cell_type": "code",
   "execution_count": 18,
   "id": "aa5e7f44-4250-41c4-8d9c-83fc8f520c7e",
   "metadata": {},
   "outputs": [
    {
     "name": "stdout",
     "output_type": "stream",
     "text": [
      "        Date    Weekday\n",
      "0 2023-01-01     Sunday\n",
      "1 2023-01-02     Monday\n",
      "2 2023-01-03    Tuesday\n",
      "3 2023-01-04  Wednesday\n",
      "4 2023-01-05   Thursday\n"
     ]
    }
   ],
   "source": [
    "import pandas as pd\n",
    "\n",
    "def add_weekday_column(df):\n",
    "    # Check if 'Date' column exists in the DataFrame\n",
    "    if 'Date' not in df.columns:\n",
    "        print(\"Error: 'Date' column not found in the DataFrame.\")\n",
    "        return\n",
    "    \n",
    "    # Convert 'Date' column to datetime type (if it's not already)\n",
    "    df['Date'] = pd.to_datetime(df['Date'])\n",
    "    \n",
    "    # Add a new column 'Weekday' containing the weekday name\n",
    "    df['Weekday'] = df['Date'].dt.day_name()\n",
    "    \n",
    "    # Optionally, display the DataFrame with the new 'Weekday' column\n",
    "    print(df)\n",
    "    return df  # Return the modified DataFrame\n",
    "\n",
    "# Example usage:\n",
    "# Assuming 'df' is your DataFrame with a column named 'Date'\n",
    "data = {'Date': ['2023-01-01', '2023-01-02', '2023-01-03', '2023-01-04', '2023-01-05']}\n",
    "df = pd.DataFrame(data)\n",
    "\n",
    "# Call the function to add a new 'Weekday' column based on the 'Date' column\n",
    "modified_df = add_weekday_column(df)\n"
   ]
  },
  {
   "cell_type": "code",
   "execution_count": 19,
   "id": "73007f8a-5d8d-4f99-8618-0e95cc12a758",
   "metadata": {},
   "outputs": [],
   "source": [
    "#Q12. Given a Pandas DataFrame df with a column 'Date' that contains timestamps, write a Python function to select all rows where the date is between '2023-01-01' and '2023-01-31'."
   ]
  },
  {
   "cell_type": "code",
   "execution_count": 20,
   "id": "846b1a8a-7354-45e7-9055-2e46121b403c",
   "metadata": {},
   "outputs": [
    {
     "name": "stdout",
     "output_type": "stream",
     "text": [
      "        Date\n",
      "0 2023-01-01\n",
      "1 2023-01-15\n",
      "2 2023-01-31\n"
     ]
    }
   ],
   "source": [
    "import pandas as pd\n",
    "\n",
    "def select_rows_by_date_range(df):\n",
    "    # Check if 'Date' column exists in the DataFrame\n",
    "    if 'Date' not in df.columns:\n",
    "        print(\"Error: 'Date' column not found in the DataFrame.\")\n",
    "        return\n",
    "    \n",
    "    # Convert 'Date' column to datetime type (if it's not already)\n",
    "    df['Date'] = pd.to_datetime(df['Date'])\n",
    "    \n",
    "    # Define the start and end dates for the date range\n",
    "    start_date = '2023-01-01'\n",
    "    end_date = '2023-01-31'\n",
    "    \n",
    "    # Use boolean indexing to select rows within the date range\n",
    "    filtered_df = df[(df['Date'] >= start_date) & (df['Date'] <= end_date)]\n",
    "    \n",
    "    # Optionally, display the selected DataFrame\n",
    "    print(filtered_df)\n",
    "    return filtered_df  # Return the selected DataFrame\n",
    "\n",
    "# Example usage:\n",
    "# Assuming 'df' is your DataFrame with a column named 'Date'\n",
    "data = {'Date': ['2023-01-01', '2023-01-15', '2023-01-31', '2023-02-05', '2023-02-10']}\n",
    "df = pd.DataFrame(data)\n",
    "\n",
    "# Call the function to select rows where the date is between '2023-01-01' and '2023-01-31'\n",
    "selected_df = select_rows_by_date_range(df)\n"
   ]
  },
  {
   "cell_type": "code",
   "execution_count": null,
   "id": "1d458a6d-cec2-47dc-8fb8-6420bd720011",
   "metadata": {},
   "outputs": [],
   "source": [
    "#Q13. To use the basic functions of pandas, what is the first and foremost necessary library that needs to be imported?\n",
    "\n",
    "To use the basic functions of pandas, we need to import pandas "
   ]
  }
 ],
 "metadata": {
  "kernelspec": {
   "display_name": "Python 3 (ipykernel)",
   "language": "python",
   "name": "python3"
  },
  "language_info": {
   "codemirror_mode": {
    "name": "ipython",
    "version": 3
   },
   "file_extension": ".py",
   "mimetype": "text/x-python",
   "name": "python",
   "nbconvert_exporter": "python",
   "pygments_lexer": "ipython3",
   "version": "3.10.8"
  }
 },
 "nbformat": 4,
 "nbformat_minor": 5
}
