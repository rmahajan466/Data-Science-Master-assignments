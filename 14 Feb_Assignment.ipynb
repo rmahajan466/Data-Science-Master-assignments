{
 "cells": [
  {
   "cell_type": "code",
   "execution_count": null,
   "id": "4c474bff-ee4c-4886-9d9a-bd066326606b",
   "metadata": {},
   "outputs": [],
   "source": [
    "#Q1). What is multithreading in python? why is it used? Name the module used to handle threads in python\n",
    "\n",
    "\"\"\"\n",
    "\n",
    "Multithreading in Python refers to a programming concept where multiple threads of execution run concurrently within the same process. \n",
    "Each thread represents a separate flow of control, allowing a program to perform multiple tasks simultaneously.\n",
    "\n",
    "\"\"\"\n",
    "\n",
    "\"\"\"\n",
    "\n",
    "Threads are used in Python for various purposes, such as:\n",
    "\n",
    "Concurrency: Multithreading enables programs to perform multiple tasks concurrently, \n",
    "which can be beneficial for applications that need to handle multiple operations simultaneously \n",
    "(like handling user interface responsiveness while performing background tasks).\n",
    "\n",
    "Resource Sharing: Threads can share resources like memory space within the same process, \n",
    "making it easier to coordinate tasks and share data between different parts of a program.\n",
    "\n",
    "Improved Performance: Multithreading can potentially improve performance by utilizing available CPU cores more efficiently, \n",
    "especially for I/O-bound tasks where threads can overlap waiting times.\n",
    "\n",
    "\n",
    "\"\"\"\n",
    "\n",
    "#The threading module is commonly used to handle threads. "
   ]
  },
  {
   "cell_type": "code",
   "execution_count": null,
   "id": "283a15cf-bb83-4e7c-a806-44190d585e14",
   "metadata": {},
   "outputs": [],
   "source": [
    "#Q2) Why threading module used? Write the use of the following functions:\n",
    "#    1. activeCount()\n",
    "#    2. currentThread()\n",
    "#    3. enumerate()\n",
    "\n",
    "\"\"\"\n",
    "The threading module in Python is used for implementing multithreaded programs. \n",
    "It provides a high-level interface for creating and managing threads, \n",
    "allowing developers to easily work with concurrent execution of tasks within a single process\n",
    "\"\"\""
   ]
  },
  {
   "cell_type": "code",
   "execution_count": null,
   "id": "661ee32c-c55a-4436-982d-50822cba011b",
   "metadata": {},
   "outputs": [],
   "source": [
    "\"\"\"\n",
    "\n",
    "1. activeCount()\n",
    "\n",
    "Purpose: The activeCount() function is used to get the number of Thread objects currently alive (i.e., running or paused) in the program.\n",
    "\n",
    "Use:\n",
    "This function is useful for monitoring the number of active threads at any point in time.\n",
    "It helps in understanding the concurrency level of the program and can be used for debugging or performance analysis.\n",
    "\n",
    "\"\"\""
   ]
  },
  {
   "cell_type": "code",
   "execution_count": null,
   "id": "edcf2609-b2d6-4501-a269-441c08e5fee7",
   "metadata": {},
   "outputs": [],
   "source": [
    "\"\"\"\n",
    "\n",
    "2. currentThread()\n",
    "\n",
    "Purpose: The currentThread() function returns the currently running Thread object.\n",
    "\n",
    "Use:\n",
    "It allows you to obtain a reference to the Thread object representing the thread in which the currentThread() function is called.\n",
    "This can be useful for accessing or manipulating properties of the current thread, such as its name or identifier.\n",
    "\n",
    "\"\"\""
   ]
  },
  {
   "cell_type": "code",
   "execution_count": 2,
   "id": "90d2a003-95dd-4cfa-81e6-7fc0ff008409",
   "metadata": {},
   "outputs": [],
   "source": [
    "#Q3) Explain the following functions:\n",
    "#1. run()\n",
    "#2. start()\n",
    "#3. join()\n",
    "#4. isAlive()"
   ]
  },
  {
   "cell_type": "code",
   "execution_count": null,
   "id": "ef9b73a8-32a3-48e1-83a8-2977e0a304b2",
   "metadata": {},
   "outputs": [],
   "source": [
    "\"\"\"\n",
    "\n",
    "1. run()\n",
    "\n",
    "Function: run() is a method defined in the Thread class. It represents the entry point for the thread's activity.\n",
    "\n",
    "Use:\n",
    "When you create a custom thread by subclassing threading.Thread, \n",
    "you can override the run() method to define the behavior that will run in the new thread.\n",
    "\n",
    "The run() method contains the code that will be executed by the thread when start() is called.\n",
    "\n",
    "\"\"\""
   ]
  },
  {
   "cell_type": "code",
   "execution_count": null,
   "id": "beb1523b-d67a-4f8d-a700-7a385a5089e6",
   "metadata": {},
   "outputs": [],
   "source": [
    "\"\"\"\n",
    "\n",
    "2. start()\n",
    "\n",
    "Function: start() is a method used to start the execution of a thread by calling its run() method.\n",
    "\n",
    "Use:\n",
    "After creating an instance of a thread (typically by subclassing threading.Thread), you call start() to initiate the thread's activity.\n",
    "\n",
    "The start() method initializes the thread and then invokes its run() method in a separate system-level thread.\n",
    "\n",
    "\"\"\""
   ]
  },
  {
   "cell_type": "code",
   "execution_count": null,
   "id": "0295c0fd-cac8-4c44-957c-12c5bb2ccd35",
   "metadata": {},
   "outputs": [],
   "source": [
    "\"\"\"\n",
    "\n",
    "3. join()\n",
    "\n",
    "Function: join() is a method used to wait for a thread to complete its execution.\n",
    "\n",
    "Use:\n",
    "When you call join() on a thread, the program will block (wait) at that point until the thread finishes executing.\n",
    "\n",
    "This is useful for coordinating the execution of multiple threads or \n",
    "for ensuring that certain operations are completed before continuing with the rest of the program.\n",
    "\n",
    "\"\"\""
   ]
  },
  {
   "cell_type": "code",
   "execution_count": null,
   "id": "70f9cbff-65d7-4b0c-acb2-4db4c2e4cbb6",
   "metadata": {},
   "outputs": [],
   "source": [
    "\"\"\"\n",
    "\n",
    "4. isAlive()\n",
    "\n",
    "Function: isAlive() is a method used to check whether a thread is currently executing or alive.\n",
    "\n",
    "Use:\n",
    "It returns True if the thread is currently executing (i.e., it has been started and has not yet finished), otherwise it returns False.\n",
    "\n",
    "This method can be used to check the status of a thread before performing certain operations.\n",
    "\n",
    "\"\"\""
   ]
  },
  {
   "cell_type": "code",
   "execution_count": 3,
   "id": "a9344a93-df8e-44a1-8b0e-ef433ada63cc",
   "metadata": {},
   "outputs": [],
   "source": [
    "#Q4) Write a python program to create two threads. Thread one must print the list of squares and thread two must print the list of cubes."
   ]
  },
  {
   "cell_type": "code",
   "execution_count": 5,
   "id": "2aaab9ec-dd23-4f51-93e7-8d79b1fe578f",
   "metadata": {},
   "outputs": [
    {
     "name": "stdout",
     "output_type": "stream",
     "text": [
      "List of squares: [1, 4, 9, 16, 25]\n",
      "List of cubes: [1, 8, 27, 64, 125]\n"
     ]
    }
   ],
   "source": [
    "import threading\n",
    "import logging\n",
    "\n",
    "# Configure logging\n",
    "logging.basicConfig(filename='thread_errors.log', level=logging.ERROR,\n",
    "                    format='%(asctime)s - %(levelname)s - %(message)s')\n",
    "\n",
    "# Function to calculate squares and print them\n",
    "def calculate_squares(numbers):\n",
    "    try:\n",
    "        squares = [n * n for n in numbers]\n",
    "        print(\"List of squares:\", squares)\n",
    "    except Exception as e:\n",
    "        logging.error(f\"Error in calculate_squares: {e}\")\n",
    "\n",
    "# Function to calculate cubes and print them\n",
    "def calculate_cubes(numbers):\n",
    "    try:\n",
    "        cubes = [n * n * n for n in numbers]\n",
    "        print(\"List of cubes:\", cubes)\n",
    "    except Exception as e:\n",
    "        logging.error(f\"Error in calculate_cubes: {e}\")\n",
    "\n",
    "# Main function to create threads\n",
    "def main():\n",
    "    numbers = [1, 2, 3, 4, 5]\n",
    "\n",
    "    # Create and start threads for squares and cubes\n",
    "    thread1 = threading.Thread(target=calculate_squares, args=(numbers,))\n",
    "    thread2 = threading.Thread(target=calculate_cubes, args=(numbers,))\n",
    "\n",
    "    thread1.start()\n",
    "    thread2.start()\n",
    "\n",
    "    thread1.join()\n",
    "    thread2.join()\n",
    "\n",
    "if __name__ == \"__main__\":\n",
    "    main()\n"
   ]
  },
  {
   "cell_type": "code",
   "execution_count": 6,
   "id": "ba4699c0-150b-4e23-bf6f-4908fd74ab31",
   "metadata": {},
   "outputs": [],
   "source": [
    "#Q5) State advantages and disadvantages of multithreading"
   ]
  },
  {
   "cell_type": "code",
   "execution_count": null,
   "id": "4443cf06-0b32-45fa-82e0-cb29bbdc5f6a",
   "metadata": {},
   "outputs": [],
   "source": [
    "\"\"\"\n",
    "\n",
    "Advantages of Multithreading:\n",
    "\n",
    "    Concurrency: Multithreading allows multiple tasks to be executed concurrently within the same process. \n",
    "                    This is beneficial for applications that need to perform several operations simultaneously, \n",
    "                    such as handling I/O operations or maintaining responsiveness in GUI applications while performing background tasks.\n",
    "\n",
    "    Resource Sharing: Threads within the same process share the same memory space, which makes it easier to share data and \n",
    "                        resources between different parts of a program. \n",
    "                        This can lead to efficient utilization of resources and improved performance in certain scenarios.\n",
    "\n",
    "    Responsiveness: Multithreading can enhance the responsiveness of an application, \n",
    "                    especially in interactive environments where user input needs to be processed concurrently with other tasks. \n",
    "                    By delegating tasks to separate threads, the main thread can remain responsive to user interactions.\n",
    "\n",
    "    Simplified Program Structure: In many cases, multithreading can simplify program structure by allowing developers to split complex tasks into\n",
    "                                    smaller, manageable threads. This can lead to cleaner and more modular code\n",
    "\n",
    "\"\"\""
   ]
  },
  {
   "cell_type": "code",
   "execution_count": null,
   "id": "0ff7ae03-7048-4259-910c-45252cefeab5",
   "metadata": {},
   "outputs": [],
   "source": [
    "\"\"\"\n",
    "\n",
    "Disadvantages of Multithreading in Python:\n",
    "\n",
    "    Complexity of Synchronization: Multithreading introduces the need for synchronization mechanisms (like locks, semaphores, etc.) \n",
    "                                    to coordinate access to shared resources and avoid race conditions. \n",
    "                                    Managing these synchronization primitives can be error-prone and add complexity to the code.\n",
    "\n",
    "    Potential for Deadlocks: Incorrect usage of synchronization primitives can lead to deadlocks, where two or more threads are blocked forever, \n",
    "                                waiting for resources held by each other.\n",
    "\n",
    "    Global Interpreter Lock (GIL): Python's Global Interpreter Lock (GIL) restricts multithreaded Python programs to run only one thread at a \n",
    "                                time within a single process. This means that multithreading in Python may not fully utilize multiple CPU cores \n",
    "                                for CPU-bound tasks due to GIL contention.\n",
    "\n",
    "    Increased Memory Overhead: Each thread in Python has its own execution stack, \n",
    "                                which consumes additional memory. Creating a large number of threads can lead to increased memory usage and \n",
    "                                potential resource exhaustion.\n",
    "            \n",
    "\n",
    "\"\"\""
   ]
  },
  {
   "cell_type": "code",
   "execution_count": 7,
   "id": "5776fbcd-84f4-4e6c-a862-415db701ad76",
   "metadata": {},
   "outputs": [],
   "source": [
    "#Q6) Explain deadlocks and race conditions"
   ]
  },
  {
   "cell_type": "code",
   "execution_count": null,
   "id": "9cf4e4b9-ad18-4030-903a-f9d007fa2108",
   "metadata": {},
   "outputs": [],
   "source": [
    "\"\"\"\n",
    "\n",
    "Deadlock:\n",
    "\n",
    "Definition: Deadlock is a situation in concurrent programming where two or more threads or processes are unable to proceed with their execution \n",
    "            because each is waiting for the other to release a resource that they need.\n",
    "\n",
    "Key Characteristics:\n",
    "\n",
    "Circular Dependency: In a deadlock situation, there exists a circular chain of dependencies among multiple threads or processes, \n",
    "                    where each thread/process is holding a resource that another thread/process is waiting for.\n",
    "\n",
    "Resource Contention: Deadlocks typically involve contention for shared resources such as locks, mutexes, or other synchronization primitives.\n",
    "\n",
    "Example Scenario:\n",
    "Consider two threads (Thread A and Thread B) where Thread A holds a lock on Resource X and is waiting to acquire Resource Y, \n",
    "while Thread B holds a lock on Resource Y and is waiting to acquire Resource X. \n",
    "In this case, neither thread can proceed because each is waiting for a resource that is held by the other, resulting in a deadlock.\n",
    "\n",
    "\"\"\""
   ]
  },
  {
   "cell_type": "code",
   "execution_count": null,
   "id": "d7ac0064-8eba-48df-a4ee-5e9c3625a346",
   "metadata": {},
   "outputs": [],
   "source": [
    "\"\"\"\n",
    "\n",
    "Race Condition:\n",
    "\n",
    "Definition: A race condition occurs in concurrent programming when the outcome of a program depends on the relative timing or \n",
    "            interleaving of multiple threads or processes accessing shared resources without proper synchronization.\n",
    "\n",
    "Key Characteristics:\n",
    "\n",
    "Non-deterministic Behavior: Race conditions lead to non-deterministic behavior where the program's \n",
    "                            output may vary depending on the order or timing of thread execution.\n",
    "\n",
    "Unpredictable Results: Due to the interleaving of operations from different threads, the program may produce incorrect or unexpected results.\n",
    "\n",
    "Example Scenario:\n",
    "Consider two threads (Thread A and Thread B) accessing and modifying a shared variable count without proper synchronization. \n",
    "If both threads read the value of count, perform some computation, and then write the updated value back to count, \n",
    "the final value of count may be incorrect due to interleaving operations of the threads.\n",
    "\n",
    "\"\"\""
   ]
  }
 ],
 "metadata": {
  "kernelspec": {
   "display_name": "Python 3 (ipykernel)",
   "language": "python",
   "name": "python3"
  },
  "language_info": {
   "codemirror_mode": {
    "name": "ipython",
    "version": 3
   },
   "file_extension": ".py",
   "mimetype": "text/x-python",
   "name": "python",
   "nbconvert_exporter": "python",
   "pygments_lexer": "ipython3",
   "version": "3.10.8"
  }
 },
 "nbformat": 4,
 "nbformat_minor": 5
}
