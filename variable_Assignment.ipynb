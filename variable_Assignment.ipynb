{
 "cells": [
  {
   "cell_type": "code",
   "execution_count": 1,
   "id": "f11cf82b-3898-48f1-8f35-dc71f7855637",
   "metadata": {},
   "outputs": [],
   "source": [
    "#Q1. Write all the conventions being followed while declaring a variable."
   ]
  },
  {
   "cell_type": "code",
   "execution_count": null,
   "id": "31526a76-f3b7-4a12-ba9e-0739dadcf207",
   "metadata": {},
   "outputs": [],
   "source": [
    "1. Use snake_case for variable names (e.g., `my_variable_name`).\n",
    "2. Choose descriptive names that indicate purpose (e.g., `total_students`).\n",
    "3. Avoid single-character names except for simple loop counters (`i`, `j`, `k`).\n",
    "4. Use lowercase for built-in types (`int`, `str`, `float`) and **uppercase** for constants.\n",
    "5. Avoid reserved words as variable names.\n",
    "6. Be consistent with naming styles within a project or team.\n",
    "7. Use meaningful prefixes/suffixes when necessary (e.g., `num_students`).\n",
    "8. Avoid leading underscores unless for special use cases."
   ]
  },
  {
   "cell_type": "code",
   "execution_count": 2,
   "id": "92f43d1b-4bb3-4beb-a88c-f0c8f2a26b4b",
   "metadata": {},
   "outputs": [],
   "source": [
    "#Q2. What will happen if we declare a restricted keyword as a variable?"
   ]
  },
  {
   "cell_type": "code",
   "execution_count": null,
   "id": "3f3c41b1-d134-4bf2-b307-66d8825ea1f9",
   "metadata": {},
   "outputs": [],
   "source": [
    "If a restricted keyword is used as a variable name in Python, it will result in a syntax error."
   ]
  },
  {
   "cell_type": "code",
   "execution_count": 3,
   "id": "f4d58cc3-15bf-479d-beb1-e6c0a6f03ea5",
   "metadata": {},
   "outputs": [],
   "source": [
    "#Q3. Can we actually declare a string as a variable name?"
   ]
  },
  {
   "cell_type": "code",
   "execution_count": null,
   "id": "f68a3b1e-db9d-4d88-8c14-0082ea117ea9",
   "metadata": {},
   "outputs": [],
   "source": [
    "Yes, we can declare a string as a variable name in Python."
   ]
  },
  {
   "cell_type": "code",
   "execution_count": 4,
   "id": "3e8fdbfd-a35f-44d4-b2ba-9adfd4b47804",
   "metadata": {},
   "outputs": [],
   "source": [
    "#Q4. Is it possible for us to declare “_” as a variable? If so, then write an example of it."
   ]
  },
  {
   "cell_type": "code",
   "execution_count": 5,
   "id": "29bc9d1f-beef-4c0d-ae6a-4e6eabaf2ebf",
   "metadata": {},
   "outputs": [
    {
     "name": "stdout",
     "output_type": "stream",
     "text": [
      "10\n"
     ]
    }
   ],
   "source": [
    "#Yes, it is possible to declare \"_\" as a variable name in Python. Here's an example:\n",
    "\n",
    "_ = 10\n",
    "print(_)"
   ]
  },
  {
   "cell_type": "code",
   "execution_count": 6,
   "id": "643b44f5-cac3-4f11-992c-72d59eaaf5cf",
   "metadata": {},
   "outputs": [],
   "source": [
    "#Q5. Using an example, explain how the variables in python are dynamic in nature."
   ]
  },
  {
   "cell_type": "code",
   "execution_count": 7,
   "id": "a8380af8-6f99-4ca5-b6c2-0a46e8f6c16d",
   "metadata": {},
   "outputs": [
    {
     "name": "stdout",
     "output_type": "stream",
     "text": [
      "<class 'int'>\n",
      "<class 'float'>\n",
      "<class 'str'>\n"
     ]
    }
   ],
   "source": [
    "# Initial variable assignment\n",
    "x = 10\n",
    "\n",
    "# Checking the type of x\n",
    "print(type(x))  # Output: <class 'int'>\n",
    "\n",
    "# Reassigning x to a different value (float)\n",
    "x = 3.14\n",
    "\n",
    "# Checking the type of x again\n",
    "print(type(x))  # Output: <class 'float'>\n",
    "\n",
    "# Reassigning x to a string\n",
    "x = \"Hello\"\n",
    "\n",
    "# Checking the type of x once more\n",
    "print(type(x))  # Output: <class 'str'>\n"
   ]
  },
  {
   "cell_type": "code",
   "execution_count": null,
   "id": "417cbf01-17b7-4868-b8c7-de41909e689c",
   "metadata": {},
   "outputs": [],
   "source": []
  }
 ],
 "metadata": {
  "kernelspec": {
   "display_name": "Python 3 (ipykernel)",
   "language": "python",
   "name": "python3"
  },
  "language_info": {
   "codemirror_mode": {
    "name": "ipython",
    "version": 3
   },
   "file_extension": ".py",
   "mimetype": "text/x-python",
   "name": "python",
   "nbconvert_exporter": "python",
   "pygments_lexer": "ipython3",
   "version": "3.10.8"
  }
 },
 "nbformat": 4,
 "nbformat_minor": 5
}
