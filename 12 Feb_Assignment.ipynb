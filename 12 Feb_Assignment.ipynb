{
 "cells": [
  {
   "cell_type": "code",
   "execution_count": null,
   "id": "a11212d9-c91f-488f-93a0-b2a8e485b96a",
   "metadata": {},
   "outputs": [],
   "source": [
    "#Q1) What is an exception in Python? Write difference between exceptions and Syntax errors\n",
    "\n",
    "\"\"\"\n",
    "\n",
    "Ans) \n",
    "\n",
    "An exception is an error that occurs during the execution of a program. \n",
    "When a statement or expression in Python cannot be executed properly due to some reason (like invalid operations, unexpected conditions, or invalid inputs), \n",
    "Python raises an exception. An exception disrupts the normal flow of the program and can be caught and handled using exception handling mechanisms.\n",
    "\n",
    "Difference between Exceptions and Syntax Errors:\n",
    "\n",
    "Exceptions:\n",
    "\n",
    "-> Exceptions occur during the execution of a program.\n",
    "\n",
    "-> They are caused by factors such as invalid input, unexpected conditions, or runtime errors.\n",
    "\n",
    "-> Examples include ZeroDivisionError, TypeError, ValueError, etc.\n",
    "\n",
    "-> Exceptions can be caught and handled using try, except, finally, and else blocks.\n",
    "\n",
    "\n",
    "Syntax Errors:\n",
    "\n",
    "-> Syntax errors occur during the parsing of code, before the program is executed.\n",
    "\n",
    "-> They are caused by incorrect syntax (grammar) in the code.\n",
    "\n",
    "-> Examples include missing colons (:) at the end of a statement, mismatched parentheses or brackets, misspelled keywords, etc.\n",
    "\n",
    "-> Syntax errors prevent the program from running and must be fixed before execution.\n",
    "\n",
    "\"\"\""
   ]
  },
  {
   "cell_type": "code",
   "execution_count": null,
   "id": "2f83e2fe-97d5-4049-a69f-5350e96fa774",
   "metadata": {},
   "outputs": [],
   "source": [
    "#Q2) What happens when an exception is not handled? Explain with an Example\n",
    "\n",
    "\n",
    "\"\"\"\n",
    "When an exception is not handled in Python, \n",
    "it propagates up the call stack until it is either caught by an appropriate exception handler or it reaches the top level of the program, \n",
    "causing the program to terminate and display an error message along with a traceback. This behavior is known as an \"unhandled exception.\"\n",
    "\"\"\""
   ]
  },
  {
   "cell_type": "code",
   "execution_count": 1,
   "id": "c88efce0-c4b1-4e9e-9d15-a3fac0746f23",
   "metadata": {},
   "outputs": [
    {
     "ename": "ZeroDivisionError",
     "evalue": "division by zero",
     "output_type": "error",
     "traceback": [
      "\u001b[0;31m---------------------------------------------------------------------------\u001b[0m",
      "\u001b[0;31mZeroDivisionError\u001b[0m                         Traceback (most recent call last)",
      "Cell \u001b[0;32mIn[1], line 12\u001b[0m\n\u001b[1;32m      9\u001b[0m     \u001b[38;5;28;01mexcept\u001b[39;00m \u001b[38;5;167;01mValueError\u001b[39;00m:\n\u001b[1;32m     10\u001b[0m         \u001b[38;5;28mprint\u001b[39m(\u001b[38;5;124m\"\u001b[39m\u001b[38;5;124mCaught a ValueError\u001b[39m\u001b[38;5;124m\"\u001b[39m)\n\u001b[0;32m---> 12\u001b[0m \u001b[43mmain\u001b[49m\u001b[43m(\u001b[49m\u001b[43m)\u001b[49m  \u001b[38;5;66;03m# Call the main function\u001b[39;00m\n",
      "Cell \u001b[0;32mIn[1], line 7\u001b[0m, in \u001b[0;36mmain\u001b[0;34m()\u001b[0m\n\u001b[1;32m      5\u001b[0m \u001b[38;5;28;01mdef\u001b[39;00m \u001b[38;5;21mmain\u001b[39m():\n\u001b[1;32m      6\u001b[0m     \u001b[38;5;28;01mtry\u001b[39;00m:\n\u001b[0;32m----> 7\u001b[0m         result \u001b[38;5;241m=\u001b[39m \u001b[43mdivide\u001b[49m\u001b[43m(\u001b[49m\u001b[38;5;241;43m10\u001b[39;49m\u001b[43m,\u001b[49m\u001b[43m \u001b[49m\u001b[38;5;241;43m0\u001b[39;49m\u001b[43m)\u001b[49m  \u001b[38;5;66;03m# This will raise a ZeroDivisionError\u001b[39;00m\n\u001b[1;32m      8\u001b[0m         \u001b[38;5;28mprint\u001b[39m(\u001b[38;5;124m\"\u001b[39m\u001b[38;5;124mResult:\u001b[39m\u001b[38;5;124m\"\u001b[39m, result)  \u001b[38;5;66;03m# This line will not execute if an exception occurs\u001b[39;00m\n\u001b[1;32m      9\u001b[0m     \u001b[38;5;28;01mexcept\u001b[39;00m \u001b[38;5;167;01mValueError\u001b[39;00m:\n",
      "Cell \u001b[0;32mIn[1], line 3\u001b[0m, in \u001b[0;36mdivide\u001b[0;34m(a, b)\u001b[0m\n\u001b[1;32m      2\u001b[0m \u001b[38;5;28;01mdef\u001b[39;00m \u001b[38;5;21mdivide\u001b[39m(a, b):\n\u001b[0;32m----> 3\u001b[0m     \u001b[38;5;28;01mreturn\u001b[39;00m \u001b[43ma\u001b[49m\u001b[43m \u001b[49m\u001b[38;5;241;43m/\u001b[39;49m\u001b[43m \u001b[49m\u001b[43mb\u001b[49m\n",
      "\u001b[0;31mZeroDivisionError\u001b[0m: division by zero"
     ]
    }
   ],
   "source": [
    "#Example\n",
    "def divide(a, b):\n",
    "    return a / b  # This function may raise a ZeroDivisionError\n",
    "\n",
    "def main():\n",
    "    try:\n",
    "        result = divide(10, 0)  # This will raise a ZeroDivisionError\n",
    "        print(\"Result:\", result)  # This line will not execute if an exception occurs\n",
    "    except ValueError:\n",
    "        print(\"Caught a ValueError\")\n",
    "        \n",
    "main()  # Call the main function\n"
   ]
  },
  {
   "cell_type": "code",
   "execution_count": null,
   "id": "4fe95e75-3af9-4d12-8682-e0c62056e818",
   "metadata": {},
   "outputs": [],
   "source": [
    "#Q3) Which python statements are used to catch and handle exceptions? Explain with an example\n",
    "\n",
    "\"\"\"\n",
    "you can catch and handle exceptions using try and except statements. \n",
    "The try block is used to wrap the code where an exception might occur, \n",
    "and the except block is used to handle specific exceptions that occur within the try block.\n",
    "\"\"\""
   ]
  },
  {
   "cell_type": "code",
   "execution_count": 2,
   "id": "d81e3841-c9e6-415a-93b8-470babe524f6",
   "metadata": {},
   "outputs": [
    {
     "name": "stdout",
     "output_type": "stream",
     "text": [
      "Result of division: 5.0\n",
      "Division operation was successful\n",
      "Division operation completed (finally block)\n",
      "Error: Cannot divide by zero!\n",
      "Division operation completed (finally block)\n",
      "Error: unsupported operand type(s) for /: 'int' and 'str'\n",
      "Division operation completed (finally block)\n"
     ]
    }
   ],
   "source": [
    "#Example\n",
    "def divide(a, b):\n",
    "    try:\n",
    "        result = a / b  # This might raise a ZeroDivisionError\n",
    "        print(\"Result of division:\", result)\n",
    "    except ZeroDivisionError:\n",
    "        print(\"Error: Cannot divide by zero!\")\n",
    "    except TypeError as e:\n",
    "        print(\"Error:\", e)\n",
    "    except:\n",
    "        print(\"An unexpected error occurred\")\n",
    "    else:\n",
    "        print(\"Division operation was successful\")\n",
    "    finally:\n",
    "        print(\"Division operation completed (finally block)\")\n",
    "\n",
    "# Example calls to the divide function\n",
    "divide(10, 2)  # This will execute successfully\n",
    "divide(10, 0)  # This will raise a ZeroDivisionError\n",
    "divide(10, '2')  # This will raise a TypeError\n"
   ]
  },
  {
   "cell_type": "code",
   "execution_count": null,
   "id": "48419ded-ce7b-4a3d-bf20-5dd94671d14e",
   "metadata": {},
   "outputs": [],
   "source": [
    "#Q4) Explain with example: a) try and else b) finally c) raise\n",
    "\n",
    "\"\"\"\n",
    "a) try and else\n",
    "The try and else blocks are used together in Python exception handling. \n",
    "Code that might raise an exception is placed inside the try block. \n",
    "If no exceptions occur within the try block, the code in the else block is executed. \n",
    "If an exception is raised, the code in the else block is skipped.\n",
    "\"\"\""
   ]
  },
  {
   "cell_type": "code",
   "execution_count": 5,
   "id": "178bee83-c737-49b9-9c0e-9ab4fa32edc1",
   "metadata": {},
   "outputs": [
    {
     "name": "stdout",
     "output_type": "stream",
     "text": [
      "Division successful. Result: 5.0\n",
      "Error: Cannot divide by zero!\n"
     ]
    }
   ],
   "source": [
    "#example\n",
    "def divide(a, b):\n",
    "    try:\n",
    "        result = a / b  # This might raise a ZeroDivisionError\n",
    "    except ZeroDivisionError:\n",
    "        print(\"Error: Cannot divide by zero!\")\n",
    "    else:\n",
    "        print(\"Division successful. Result:\", result)\n",
    "\n",
    "# Example calls to the divide function\n",
    "divide(10, 2)  # Output: Division successful. Result: 5.0\n",
    "divide(10, 0)  # Output: Error: Cannot divide by zero!"
   ]
  },
  {
   "cell_type": "code",
   "execution_count": null,
   "id": "8b301e38-bd86-498c-a768-6f31aa9c9b20",
   "metadata": {},
   "outputs": [],
   "source": [
    "\"\"\"\n",
    "\n",
    "b) finally\n",
    "The finally block is used to define clean-up actions that must be executed under all circumstances, regardless of whether an exception occurred or not.\n",
    "This block is commonly used to release resources like files or network connections, ensuring that these resources are always properly closed.\n",
    "\n",
    "\"\"\""
   ]
  },
  {
   "cell_type": "code",
   "execution_count": 7,
   "id": "ecdcf6b4-bdf1-4146-a031-0f430f501108",
   "metadata": {},
   "outputs": [
    {
     "name": "stdout",
     "output_type": "stream",
     "text": [
      "File contents: Hello, World!\n",
      "This is a sample file.\n",
      "Error: File 'nonexistent.txt' not found.\n"
     ]
    }
   ],
   "source": [
    "#Example\n",
    "def read_file(filename):\n",
    "    try:\n",
    "        file = open(filename, 'r')\n",
    "        contents = file.read()\n",
    "        print(\"File contents:\", contents)\n",
    "    except FileNotFoundError:\n",
    "        print(f\"Error: File '{filename}' not found.\")\n",
    "    finally:\n",
    "        if 'file' in locals():\n",
    "            file.close()  # Always close the file, even if an exception occurred\n",
    "\n",
    "# Example call to read_file function\n",
    "read_file('example.txt')  # Output: File contents: Hello, world!\n",
    "read_file('nonexistent.txt')  # Output: Error: File 'nonexistent.txt' not found.\n"
   ]
  },
  {
   "cell_type": "code",
   "execution_count": null,
   "id": "1b0958ec-13ee-4735-833d-3bc8969ccb76",
   "metadata": {},
   "outputs": [],
   "source": [
    "\"\"\"\n",
    "\n",
    "c) raise\n",
    "The raise statement is used to explicitly raise an exception or re-raise a caught exception within your code.\n",
    "This allows you to create custom exceptions or propagate exceptions to higher levels of your program.\n",
    "\n",
    "\"\"\""
   ]
  },
  {
   "cell_type": "code",
   "execution_count": 8,
   "id": "137e85e1-d74a-4cb2-99d2-53af8d6357d8",
   "metadata": {},
   "outputs": [
    {
     "name": "stdout",
     "output_type": "stream",
     "text": [
      "Age is valid\n",
      "Error: Age cannot be negative\n"
     ]
    }
   ],
   "source": [
    "#Example\n",
    "def validate_age(age):\n",
    "    if age < 0:\n",
    "        raise ValueError(\"Age cannot be negative\")\n",
    "    elif age < 18:\n",
    "        raise ValueError(\"Must be 18 or older to access this content\")\n",
    "    else:\n",
    "        print(\"Age is valid\")\n",
    "\n",
    "# Example calls to validate_age function\n",
    "try:\n",
    "    validate_age(25)  # Output: Age is valid\n",
    "    validate_age(-5)  # Raises ValueError: Age cannot be negative\n",
    "except ValueError as e:\n",
    "    print(\"Error:\", e)\n"
   ]
  },
  {
   "cell_type": "code",
   "execution_count": null,
   "id": "045b4ebc-be5e-43d6-a6a8-3692f47f5d41",
   "metadata": {},
   "outputs": [],
   "source": [
    "#Q5) What are custom exceptions in python? Why do we need custom Exceptions? Explain with an example.\n",
    "\n",
    "\"\"\"\n",
    "Custom exceptions in Python refer to user-defined exception classes that extend the base Exception class or any of its subclasses. \n",
    "These custom exceptions allow you to define specific error types that are meaningful within the context of your application. \n",
    "By defining custom exceptions, you can provide clearer error messages and more specialized exception handling in your code.\n",
    "\n",
    "Need of custom exceptions\n",
    "\n",
    "Semantic Clarity: Custom exceptions provide meaningful names and context-specific error messages, \n",
    "                  making it easier to understand the cause of an error when it occurs.\n",
    "\n",
    "Modularity: Custom exceptions help in organizing and modularizing error handling logic, \n",
    "            separating generic exceptions from application-specific exceptions.\n",
    "\n",
    "Specialized Handling: They enable specialized exception handling based on different types of errors that may occur in your application.\n",
    "\n",
    "\"\"\""
   ]
  },
  {
   "cell_type": "code",
   "execution_count": 9,
   "id": "41200392-60f1-488b-b0c6-f7685ae4e5b8",
   "metadata": {},
   "outputs": [
    {
     "name": "stdout",
     "output_type": "stream",
     "text": [
      "Error: Insufficient balance (500) to withdraw amount (700)\n",
      "Available balance: 500\n",
      "Withdrawal amount requested: 700\n"
     ]
    }
   ],
   "source": [
    "#Example\n",
    "# Define a custom exception class\n",
    "class WithdrawalError(Exception):\n",
    "    def __init__(self, balance, amount):\n",
    "        super().__init__(f\"Insufficient balance ({balance}) to withdraw amount ({amount})\")\n",
    "        self.balance = balance\n",
    "        self.amount = amount\n",
    "\n",
    "    def get_balance(self):\n",
    "        return self.balance\n",
    "\n",
    "    def get_amount(self):\n",
    "        return self.amount\n",
    "\n",
    "def withdraw(balance, amount):\n",
    "    if amount > balance:\n",
    "        raise WithdrawalError(balance, amount)  # Raise custom exception\n",
    "    else:\n",
    "        new_balance = balance - amount\n",
    "        print(f\"Withdrawal successful. New balance: {new_balance}\")\n",
    "        return new_balance\n",
    "\n",
    "# Example usage of the withdraw function\n",
    "try:\n",
    "    current_balance = 500\n",
    "    withdrawal_amount = 700\n",
    "    new_balance = withdraw(current_balance, withdrawal_amount)\n",
    "except WithdrawalError as e:\n",
    "    print(f\"Error: {e}\")\n",
    "    print(f\"Available balance: {e.get_balance()}\")\n",
    "    print(f\"Withdrawal amount requested: {e.get_amount()}\")\n"
   ]
  },
  {
   "cell_type": "code",
   "execution_count": 10,
   "id": "3c20fcce-55b0-4e0d-bd3b-074f2e7e4548",
   "metadata": {},
   "outputs": [],
   "source": [
    "#Q6) Create a custom exception class. Use this class to handle an Exception"
   ]
  },
  {
   "cell_type": "code",
   "execution_count": 11,
   "id": "a3ddf739-b3e1-4c03-a45f-9ecf12e9c6fa",
   "metadata": {},
   "outputs": [],
   "source": [
    "class InvalidInputError(Exception):\n",
    "    def __init__(self, input_value):\n",
    "        super().__init__(f\"Invalid input: {input_value}\")\n",
    "        self.input_value = input_value\n",
    "\n",
    "    def get_input_value(self):\n",
    "        return self.input_value"
   ]
  },
  {
   "cell_type": "code",
   "execution_count": 12,
   "id": "e354b33d-e1c1-426c-9d93-da5768471253",
   "metadata": {},
   "outputs": [
    {
     "name": "stdout",
     "output_type": "stream",
     "text": [
      "Error: Invalid input: -25\n",
      "Invalid input value: -25\n"
     ]
    }
   ],
   "source": [
    "import math\n",
    "\n",
    "def calculate_square_root(number):\n",
    "    if number < 0:\n",
    "        raise InvalidInputError(number)  # Raise custom exception for negative input\n",
    "    else:\n",
    "        return math.sqrt(number)\n",
    "\n",
    "# Example usage of the calculate_square_root function\n",
    "try:\n",
    "    num = -25\n",
    "    result = calculate_square_root(num)\n",
    "except InvalidInputError as e:\n",
    "    print(f\"Error: {e}\")\n",
    "    print(f\"Invalid input value: {e.get_input_value()}\")\n",
    "else:\n",
    "    print(f\"Square root of {num} is: {result}\")\n"
   ]
  },
  {
   "cell_type": "code",
   "execution_count": null,
   "id": "b301ab8f-0cf0-463b-b05b-9293326f45b8",
   "metadata": {},
   "outputs": [],
   "source": []
  }
 ],
 "metadata": {
  "kernelspec": {
   "display_name": "Python 3 (ipykernel)",
   "language": "python",
   "name": "python3"
  },
  "language_info": {
   "codemirror_mode": {
    "name": "ipython",
    "version": 3
   },
   "file_extension": ".py",
   "mimetype": "text/x-python",
   "name": "python",
   "nbconvert_exporter": "python",
   "pygments_lexer": "ipython3",
   "version": "3.10.8"
  }
 },
 "nbformat": 4,
 "nbformat_minor": 5
}
