{
 "cells": [
  {
   "cell_type": "code",
   "execution_count": 1,
   "id": "959fa3a8-08b0-4dc7-ba9f-2c832957ba65",
   "metadata": {},
   "outputs": [],
   "source": [
    "#Q1) Python Programming language is developed by Python Software Foundation in 1991 and designed by Guido van Rossum"
   ]
  },
  {
   "cell_type": "code",
   "execution_count": 2,
   "id": "60bbcff3-eb76-435e-aaf7-8b9b371e21af",
   "metadata": {},
   "outputs": [],
   "source": [
    "#Q2) Python is a multi-paradigm programming language. Object-oriented programming and structured programming are fully supported, and many of its features support functional programming and aspect-oriented programming"
   ]
  },
  {
   "cell_type": "code",
   "execution_count": 3,
   "id": "a6207884-160f-423e-bcf7-2edde75a2209",
   "metadata": {},
   "outputs": [],
   "source": [
    "#Q3) Yes python is case sensitive "
   ]
  },
  {
   "cell_type": "code",
   "execution_count": 5,
   "id": "c1b167ed-1620-41a9-b7de-3b1a71ae7bd8",
   "metadata": {},
   "outputs": [],
   "source": [
    "#Q4) .py is the correct extension for python file"
   ]
  },
  {
   "cell_type": "code",
   "execution_count": 6,
   "id": "b3585d44-5fc1-4aca-8222-809b9d263665",
   "metadata": {},
   "outputs": [],
   "source": [
    "#Q5) The CPU can only understand machine code indeed. For interpreted programs, the ultimate goal of an interpreter is to \"interpret\" the program code into machine code. However, usually a modern interpreted language does not interpret human code directly because it is too inefficient.\n",
    "#The Python interpreter first reads the human code and optimizes it to some intermediate code before interpreting it into machine code. That's why you always need another program to run a Python script, unlike in C++ where you can run the compiled executable of your code directly"
   ]
  },
  {
   "cell_type": "code",
   "execution_count": 10,
   "id": "328d09ea-69f6-4399-a4b7-aa991785144f",
   "metadata": {
    "collapsed": true,
    "jupyter": {
     "outputs_hidden": true
    },
    "tags": []
   },
   "outputs": [
    {
     "data": {
      "text/plain": [
       "'#Q6) Few blocks commonly used to define a python language\\n# I) Defining a function\\ndef helloWorld():\\n    # function body\\n    print(\"Hello World\")\\n# II Conditional Statements\\n\\nif condition:\\n    # code to execute if condition is True\\nelse:\\n    # code to execute if condition is False\\n# III Loops\\nfor variable in iterable:\\n    # code to execute for each item in the iterable\\n\\nwhile condition:\\n    # code to execute while condition is True\\n\\n# and many more are also there.'"
      ]
     },
     "execution_count": 10,
     "metadata": {},
     "output_type": "execute_result"
    }
   ],
   "source": [
    "\"\"\"#Q6) Few blocks commonly used to define a python language\n",
    "# I) Defining a function\n",
    "def helloWorld():\n",
    "    # function body\n",
    "    print(\"Hello World\")\n",
    "# II Conditional Statements\n",
    "\n",
    "if condition:\n",
    "    # code to execute if condition is True\n",
    "else:\n",
    "    # code to execute if condition is False\n",
    "# III Loops\n",
    "for variable in iterable:\n",
    "    # code to execute for each item in the iterable\n",
    "\n",
    "while condition:\n",
    "    # code to execute while condition is True\n",
    "\n",
    "# and many more are also there.\"\"\""
   ]
  },
  {
   "cell_type": "code",
   "execution_count": 1,
   "id": "d6a75602-6aae-4028-a595-28f0b9b8c98c",
   "metadata": {
    "collapsed": true,
    "jupyter": {
     "outputs_hidden": true
    },
    "tags": []
   },
   "outputs": [
    {
     "data": {
      "text/plain": [
       "'\\nQ7) hashtag # is used to give single line comment\\n\\n'"
      ]
     },
     "execution_count": 1,
     "metadata": {},
     "output_type": "execute_result"
    }
   ],
   "source": [
    "\"\"\"\n",
    "Q7) hashtag # is used to give single line comment\n",
    "\n",
    "\"\"\""
   ]
  },
  {
   "cell_type": "code",
   "execution_count": 4,
   "id": "f5dec1d7-68b4-49ce-b9b7-b43c68ee4a66",
   "metadata": {
    "collapsed": true,
    "jupyter": {
     "outputs_hidden": true
    },
    "tags": []
   },
   "outputs": [
    {
     "data": {
      "text/plain": [
       "\"\\nQ8)\\nopen cmd and run 'python --version'\\n\\n\""
      ]
     },
     "execution_count": 4,
     "metadata": {},
     "output_type": "execute_result"
    }
   ],
   "source": [
    "\"\"\"\n",
    "Q8)\n",
    "open cmd and run 'python --version'\n",
    "\n",
    "\"\"\""
   ]
  },
  {
   "cell_type": "code",
   "execution_count": 3,
   "id": "173ca8df-213b-48dc-af41-6f1598f1cc25",
   "metadata": {
    "collapsed": true,
    "jupyter": {
     "outputs_hidden": true
    },
    "tags": []
   },
   "outputs": [
    {
     "data": {
      "text/plain": [
       "'\\nQ9) lambda\\n\\n'"
      ]
     },
     "execution_count": 3,
     "metadata": {},
     "output_type": "execute_result"
    }
   ],
   "source": [
    "\"\"\"\n",
    "Q9) lambda\n",
    "\n",
    "\"\"\""
   ]
  },
  {
   "cell_type": "code",
   "execution_count": 5,
   "id": "0e1dac1a-0118-40df-9a7e-0b4efbf2d876",
   "metadata": {},
   "outputs": [
    {
     "data": {
      "text/plain": [
       "'\\nQ10)\\npip is a package installer for python\\n\\n'"
      ]
     },
     "execution_count": 5,
     "metadata": {},
     "output_type": "execute_result"
    }
   ],
   "source": [
    "\"\"\"\n",
    "Q10)\n",
    "pip is a package installer for python\n",
    "\n",
    "\"\"\""
   ]
  },
  {
   "cell_type": "code",
   "execution_count": 6,
   "id": "97085365-4e84-41c9-84ab-3f82a49cc995",
   "metadata": {
    "collapsed": true,
    "jupyter": {
     "outputs_hidden": true
    },
    "tags": []
   },
   "outputs": [
    {
     "data": {
      "text/plain": [
       "'\\nQ11) print()\\ntype()\\nlen()\\nid()\\ninput() and etc\\n\\n'"
      ]
     },
     "execution_count": 6,
     "metadata": {},
     "output_type": "execute_result"
    }
   ],
   "source": [
    "\"\"\"\n",
    "Q11) print()\n",
    "type()\n",
    "len()\n",
    "id()\n",
    "input() and etc\n",
    "\n",
    "\"\"\""
   ]
  },
  {
   "cell_type": "code",
   "execution_count": 7,
   "id": "bff0e23f-c455-46ac-8b12-34b21773b1e0",
   "metadata": {
    "collapsed": true,
    "jupyter": {
     "outputs_hidden": true
    },
    "tags": []
   },
   "outputs": [
    {
     "data": {
      "text/plain": [
       "'\\nQ12) 79\\n\\n'"
      ]
     },
     "execution_count": 7,
     "metadata": {},
     "output_type": "execute_result"
    }
   ],
   "source": [
    "\"\"\"\n",
    "Q12) 79\n",
    "\n",
    "\"\"\""
   ]
  },
  {
   "cell_type": "code",
   "execution_count": 8,
   "id": "e57f75e8-d91a-4d9a-9e66-d8d2d8cb1f9f",
   "metadata": {
    "collapsed": true,
    "jupyter": {
     "outputs_hidden": true
    },
    "tags": []
   },
   "outputs": [
    {
     "data": {
      "text/plain": [
       "'\\nQ13) Large developer community, Extensive libraries, write less do more, portability, wide range of use cases and much more.\\n\\n'"
      ]
     },
     "execution_count": 8,
     "metadata": {},
     "output_type": "execute_result"
    }
   ],
   "source": [
    "\"\"\"\n",
    "Q13) Large developer community, Extensive libraries, write less do more, portability, wide range of use cases and much more.\n",
    "\n",
    "\"\"\""
   ]
  },
  {
   "cell_type": "code",
   "execution_count": 9,
   "id": "a94d87cf-adda-45d4-ad79-a02c403a5dbd",
   "metadata": {
    "collapsed": true,
    "jupyter": {
     "outputs_hidden": true
    },
    "tags": []
   },
   "outputs": [
    {
     "data": {
      "text/plain": [
       "'\\nQ14) Memory management in python involves a private heap containing all python objects and data structures.\\n\\n'"
      ]
     },
     "execution_count": 9,
     "metadata": {},
     "output_type": "execute_result"
    }
   ],
   "source": [
    "\"\"\"\n",
    "Q14) Memory management in python involves a private heap containing all python objects and data structures.\n",
    "\n",
    "\"\"\""
   ]
  },
  {
   "cell_type": "code",
   "execution_count": 10,
   "id": "d180fa9b-d230-4f14-9960-e7ab015033c9",
   "metadata": {
    "collapsed": true,
    "jupyter": {
     "outputs_hidden": true
    },
    "tags": []
   },
   "outputs": [
    {
     "data": {
      "text/plain": [
       "\"\\nQ15) \\n Install python from this link https://www.python.org/downloads/\\nAfter this, install it on your PC. Look for the location where PYTHON has been installed on your PC using tge following command on your command prompt: cmd python.\\nThen go to advanced system settings and add new variable and name it as PYTHON_NAME and paste the copied path.\\nThen look for the path variable, select it's value and select edit\\nAdd a semicolon towards the end of the value if it's not present and then type %PYTHON_HOME%\\n\""
      ]
     },
     "execution_count": 10,
     "metadata": {},
     "output_type": "execute_result"
    }
   ],
   "source": [
    "\"\"\"\n",
    "Q15) \n",
    " Install python from this link https://www.python.org/downloads/\n",
    "After this, install it on your PC. Look for the location where PYTHON has been installed on your PC using tge following command on your command prompt: cmd python.\n",
    "Then go to advanced system settings and add new variable and name it as PYTHON_NAME and paste the copied path.\n",
    "Then look for the path variable, select it's value and select edit\n",
    "Add a semicolon towards the end of the value if it's not present and then type %PYTHON_HOME%\n",
    "\"\"\""
   ]
  },
  {
   "cell_type": "code",
   "execution_count": null,
   "id": "f2083353-c96e-4266-a34b-a0d6c0a972e2",
   "metadata": {},
   "outputs": [],
   "source": [
    "\"\"\"\n",
    "Q16) \n",
    "Indentation is mandatory in python to define the blocks of statements.\n",
    "\n",
    "\"\"\""
   ]
  }
 ],
 "metadata": {
  "kernelspec": {
   "display_name": "Python 3 (ipykernel)",
   "language": "python",
   "name": "python3"
  },
  "language_info": {
   "codemirror_mode": {
    "name": "ipython",
    "version": 3
   },
   "file_extension": ".py",
   "mimetype": "text/x-python",
   "name": "python",
   "nbconvert_exporter": "python",
   "pygments_lexer": "ipython3",
   "version": "3.10.6"
  }
 },
 "nbformat": 4,
 "nbformat_minor": 5
}
