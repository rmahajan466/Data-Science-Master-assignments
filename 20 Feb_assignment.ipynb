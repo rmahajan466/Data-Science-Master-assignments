{
 "cells": [
  {
   "cell_type": "code",
   "execution_count": 1,
   "id": "26c1973e-988c-4ecc-9ca8-147e34a14dba",
   "metadata": {},
   "outputs": [],
   "source": [
    "#Q1. Explain GET and POST methods."
   ]
  },
  {
   "cell_type": "code",
   "execution_count": null,
   "id": "77e2acf3-d185-4fb6-8c1b-f26662735c11",
   "metadata": {},
   "outputs": [],
   "source": [
    "\"\"\"\n",
    "\n",
    "The GET and POST methods are two commonly used HTTP methods used for communication between clients (such as web browsers) and \n",
    "servers (web servers). They are specified within the HTTP protocol and have distinct purposes and characteristics.\n",
    "\n",
    "GET Method:\n",
    "    The GET method is used to request data from a specified resource.\n",
    "\n",
    "POST Method:\n",
    "    The POST method is used to submit data to be processed to a specified resource.\n",
    "\"\"\""
   ]
  },
  {
   "cell_type": "code",
   "execution_count": null,
   "id": "7031f342-276c-47af-a7d5-ec9135537d21",
   "metadata": {},
   "outputs": [],
   "source": [
    "#Q2. Why is request used in Flask?\n",
    "\n",
    "\"\"\"\n",
    "In Flask, the request object is used to access incoming request data sent by a client (e.g., a web browser) to a \n",
    "Flask application running on the server. The request object provides convenient methods and attributes to interact with various parts \n",
    "of the HTTP request, such as form data, query parameters, headers, cookies, and uploaded files.\n",
    "\"\"\""
   ]
  },
  {
   "cell_type": "code",
   "execution_count": null,
   "id": "70c03cd7-cfa1-4208-83d7-f582be2f6bf7",
   "metadata": {},
   "outputs": [],
   "source": [
    "#Q3. Why is redirect() used in Flask?\n",
    "\n",
    "\"\"\"\n",
    "In Flask, the redirect() function is used to perform HTTP redirection, which means directing the client's web browser to another URL. \n",
    "This function is essential for implementing various features and behaviors in web applications.\n",
    "\"\"\""
   ]
  },
  {
   "cell_type": "code",
   "execution_count": null,
   "id": "889a7e3b-e16e-4d84-932b-065d7145bf54",
   "metadata": {},
   "outputs": [],
   "source": [
    "#Q4. What are templates in Flask? Why is the render_template() function used?\n",
    "\n",
    "\"\"\"\n",
    "Templates are used to separate the presentation layer (HTML content) from the Python code (application logic). \n",
    "Templates allow you to create dynamic web pages by embedding Python code within HTML, which is rendered on the server side before being \n",
    "sent to the client's web browser. This approach enables the creation of reusable and maintainable web applications where the structure and \n",
    "design of web pages can be managed independently from the underlying application logic.\n",
    "\"\"\"\n",
    "\"\"\"\n",
    "The render_template() function in Flask is used to render HTML templates by combining them with data provided by the Python code\n",
    "\"\"\""
   ]
  },
  {
   "cell_type": "code",
   "execution_count": null,
   "id": "28a688cd-3524-46ff-8ac8-634488b3f03c",
   "metadata": {},
   "outputs": [],
   "source": [
    "#Q5. Create a simple API. Use Postman to test it. Attach the screenshot of the output in the Jupyter Notebook.\n",
    "#download link\n",
    "\"\"\"\n",
    "https://blue-mechanic-dmgjc.pwskills.app/files/work/Screenshot%202024-05-12%20144039.png?_xsrf=2%7C214359da%7C9a5e3b10f363dbda42929e103de3bdf3%7C1714824385\n",
    "\"\"\""
   ]
  }
 ],
 "metadata": {
  "kernelspec": {
   "display_name": "Python 3 (ipykernel)",
   "language": "python",
   "name": "python3"
  },
  "language_info": {
   "codemirror_mode": {
    "name": "ipython",
    "version": 3
   },
   "file_extension": ".py",
   "mimetype": "text/x-python",
   "name": "python",
   "nbconvert_exporter": "python",
   "pygments_lexer": "ipython3",
   "version": "3.10.8"
  }
 },
 "nbformat": 4,
 "nbformat_minor": 5
}
