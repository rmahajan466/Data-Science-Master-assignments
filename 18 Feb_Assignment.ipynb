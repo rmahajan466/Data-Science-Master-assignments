{
 "cells": [
  {
   "cell_type": "code",
   "execution_count": 1,
   "id": "7fd79641-a657-404d-ac35-1b2d83da1ba4",
   "metadata": {},
   "outputs": [],
   "source": [
    "#Q1. What is an API? Give an example, where an API is used in real life."
   ]
  },
  {
   "cell_type": "code",
   "execution_count": null,
   "id": "bc39929c-88f6-44df-adbb-921620d5ca6b",
   "metadata": {},
   "outputs": [],
   "source": [
    "\"\"\"\n",
    "\n",
    "An API, or Application Programming Interface, is a set of rules and protocols that allow different software applications to communicate\n",
    "and interact with each other. It defines the methods and data formats that applications can use to request and exchange information.\n",
    "\n",
    "One real-life example of an API is the Google Maps API. \n",
    "This API allows developers to integrate Google Maps functionality into their own applications. \n",
    "For instance, many websites and mobile apps use the Google Maps API to display interactive maps, provide location-based services, \n",
    "and obtain directions and route information. Through this API, developers can access Google's mapping platform and use its features \n",
    "within their own software, without needing to recreate the entire mapping system from scratch.\n",
    "\n",
    "\"\"\""
   ]
  },
  {
   "cell_type": "code",
   "execution_count": 2,
   "id": "7fbba071-0fa1-4e8e-8b9b-7c565ba5715d",
   "metadata": {},
   "outputs": [],
   "source": [
    "#Q2. Give advantages and disadvantages of using API."
   ]
  },
  {
   "cell_type": "code",
   "execution_count": null,
   "id": "1f4558d0-4e94-4cf9-8ee3-0e8a64c60f82",
   "metadata": {},
   "outputs": [],
   "source": [
    "\"\"\"\n",
    "\n",
    "Advantages of using APIs:\n",
    "\n",
    "-> Modularity and Reusability: APIs allow developers to use pre-built functionalities without having to understand their inner workings. \n",
    "    This promotes modularity in software design and encourages code reuse, saving development time and effort.\n",
    "\n",
    "-> Improved Efficiency: APIs provide a standardized way for applications to communicate and interact. \n",
    "    This simplifies development as developers can focus on integrating existing functionalities rather than building them from scratch.\n",
    "\n",
    "-> Access to External Services: APIs enable access to external services and data. \n",
    "    Developers can leverage APIs provided by third-party services (like payment gateways, social media platforms, etc.) \n",
    "        to add new features to their applications easily.\n",
    "\n",
    "-> Scalability: Using APIs can enhance the scalability of applications by allowing them to interact with external systems and services. \n",
    "    This can offload certain tasks or data processing to specialized services, enabling better performance as the application scales.\n",
    "\n",
    "-> Enhanced Security: APIs can provide controlled access to data and functionalities, enforcing security policies and reducing direct \n",
    "    exposure of sensitive information.\n",
    "\n",
    "Disadvantages of using APIs:\n",
    "\n",
    "-> Dependency on External Systems: When relying on third-party APIs, applications become dependent on the availability and \n",
    "    performance of these external systems. Any issues with the API provider can impact the functionality of the dependent applications.\n",
    "\n",
    "-> Compatibility and Versioning Issues: APIs can evolve over time, introducing changes in functionality or data formats. \n",
    "    This can lead to compatibility issues if applications are built using older versions of APIs or if the APIs change unexpectedly.\n",
    "\n",
    "-> Performance Overhead: Interacting with APIs introduces network communication overhead. Excessive API calls or inefficient use of \n",
    "    APIs can impact the performance and responsiveness of the application.\n",
    "\n",
    "-> Limited Customization: APIs provide a predefined set of functionalities, and developers may encounter limitations in customization \n",
    "    based on their specific requirements. Customization beyond the capabilities of the API may require alternative approaches or \n",
    "        additional development effort.\n",
    "\n",
    "-> Security Risks: Using external APIs can introduce security risks, especially if proper authentication and authorization mechanisms \n",
    "    are not implemented. Additionally, relying on third-party APIs may expose sensitive data to potential security vulnerabilities.\n",
    "\n",
    "\"\"\""
   ]
  },
  {
   "cell_type": "code",
   "execution_count": 3,
   "id": "45c2aa45-48a0-4acf-a856-4ad1d8af7f57",
   "metadata": {},
   "outputs": [],
   "source": [
    "#Q3. What is a Web API? Differentiate between API and Web API."
   ]
  },
  {
   "cell_type": "code",
   "execution_count": null,
   "id": "fe4cb358-923e-4c45-ace5-804096ec3676",
   "metadata": {},
   "outputs": [],
   "source": [
    "\"\"\"\n",
    "\n",
    "A Web API (Application Programming Interface) specifically refers to an API that is accessed over the web using HTTP protocols. \n",
    "It provides a way for software applications to interact with each other or with services on the internet. \n",
    "Web APIs are designed to be accessed over a network, typically using technologies like HTTP, REST (Representational State Transfer), or \n",
    "SOAP (Simple Object Access Protocol).\n",
    "\n",
    "\"\"\""
   ]
  },
  {
   "cell_type": "code",
   "execution_count": null,
   "id": "8f51efcf-cc95-48b4-82ce-6ec3a6334bc1",
   "metadata": {},
   "outputs": [],
   "source": [
    "\"\"\"\n",
    "\n",
    "Differentiating API and Web API:\n",
    "\n",
    "1) Scope of Interaction:\n",
    "API (General): An API (Application Programming Interface) refers to a set of rules and protocols that define how software components\n",
    "    should interact. It can be used for any type of software interaction, whether it's between different modules within an application, \n",
    "        between different applications on the same system, or between applications over a network.\n",
    "Web API: A Web API specifically refers to an API that is accessible over the web. It is used for interactions between web-based systems \n",
    "        or between web applications and external services.\n",
    "\n",
    "2) Communication Protocol:\n",
    "API (General): APIs can use various communication protocols depending on the context, such as function calls within a programming language, \n",
    "    inter-process communication (IPC) mechanisms, or network protocols like TCP/IP.\n",
    "Web API: Web APIs are accessed using standard web protocols like HTTP (Hypertext Transfer Protocol) or HTTPS (HTTP Secure). \n",
    "    They use URLs (Uniform Resource Locators) to specify resources and operations.\n",
    "\n",
    "3) Use Case:\n",
    "API (General): APIs can be used for different purposes, including system integration, library functions, operating system services, and more.\n",
    "    They are not limited to web-based interactions.\n",
    "Web API: Web APIs are specifically designed for web-based interactions, allowing applications to access and utilize web services and \n",
    "    data over the internet. They are commonly used for enabling web-based functionalities like social media integration, online payments, \n",
    "        data retrieval from servers, etc.\n",
    "\n",
    "4) Access and Authentication:\n",
    "API (General): APIs can have different access mechanisms and authentication methods depending on the implementation. \n",
    "    This can include function parameter validation, token-based authentication, API keys, etc.\n",
    "Web API: Web APIs often use standard web authentication mechanisms like OAuth (Open Authorization) for secure access control over \n",
    "    the internet. Access to web APIs is typically controlled using tokens or credentials provided by the API provider.\n",
    "    \n",
    "\"\"\""
   ]
  },
  {
   "cell_type": "code",
   "execution_count": 4,
   "id": "7f16fc51-9d4e-4546-8c04-44f1cf4f1448",
   "metadata": {},
   "outputs": [],
   "source": [
    "#Q4. Explain REST and SOAP Architecture. Mention shortcomings of SOAP."
   ]
  },
  {
   "cell_type": "code",
   "execution_count": null,
   "id": "6e5dc5e1-3c60-4f7d-9edd-7e1213026444",
   "metadata": {},
   "outputs": [],
   "source": [
    "\"\"\"\n",
    "REST (Representational State Transfer) and SOAP (Simple Object Access Protocol) are two architectural styles used for designing web services.\n",
    "They differ in their approach to defining communication protocols and data formats.\n",
    "\"\"\""
   ]
  },
  {
   "cell_type": "code",
   "execution_count": null,
   "id": "9263fd94-2b08-45a5-ab92-765da91aa7c0",
   "metadata": {},
   "outputs": [],
   "source": [
    "\"\"\"\n",
    "\n",
    "Shortcomings of SOAP:\n",
    "\n",
    "-> Complexity: SOAP messages can be verbose and complex due to the XML structure, which can lead to increased bandwidth consumption and \n",
    "    slower processing.\n",
    "-> Performance Overhead: The XML parsing and processing required for SOAP messages can introduce performance overhead, especially for \n",
    "    large payloads.\n",
    "-> Limited Browser Support: SOAP is not natively supported by web browsers, which can make it challenging to consume SOAP services \n",
    "    directly from client-side web applications.\n",
    "-> Tightly Coupled: SOAP services can be more tightly coupled due to the strict contract definition, making it harder to evolve services \n",
    "    independently without breaking existing clients.\n",
    "-> Tooling Dependency: Developing and consuming SOAP services often requires specific tooling and libraries that understand the SOAP \n",
    "    protocol, which can increase development complexity.\n",
    "\n",
    "\"\"\""
   ]
  },
  {
   "cell_type": "code",
   "execution_count": 5,
   "id": "a5b064de-97b2-410d-aec8-5d824e56fd06",
   "metadata": {},
   "outputs": [],
   "source": [
    "#Q5. Differentiate between REST and SOAP."
   ]
  },
  {
   "cell_type": "code",
   "execution_count": null,
   "id": "565fa715-a798-40c4-87dc-77ca65986852",
   "metadata": {},
   "outputs": [],
   "source": [
    "\"\"\"\n",
    "\n",
    "Differentiating API and Web API:\n",
    "\n",
    "1) Scope of Interaction:\n",
    "API (General): An API (Application Programming Interface) refers to a set of rules and protocols that define how software components\n",
    "    should interact. It can be used for any type of software interaction, whether it's between different modules within an application, \n",
    "        between different applications on the same system, or between applications over a network.\n",
    "Web API: A Web API specifically refers to an API that is accessible over the web. It is used for interactions between web-based systems \n",
    "        or between web applications and external services.\n",
    "\n",
    "2) Communication Protocol:\n",
    "API (General): APIs can use various communication protocols depending on the context, such as function calls within a programming language, \n",
    "    inter-process communication (IPC) mechanisms, or network protocols like TCP/IP.\n",
    "Web API: Web APIs are accessed using standard web protocols like HTTP (Hypertext Transfer Protocol) or HTTPS (HTTP Secure). \n",
    "    They use URLs (Uniform Resource Locators) to specify resources and operations.\n",
    "\n",
    "3) Use Case:\n",
    "API (General): APIs can be used for different purposes, including system integration, library functions, operating system services, and more.\n",
    "    They are not limited to web-based interactions.\n",
    "Web API: Web APIs are specifically designed for web-based interactions, allowing applications to access and utilize web services and \n",
    "    data over the internet. They are commonly used for enabling web-based functionalities like social media integration, online payments, \n",
    "        data retrieval from servers, etc.\n",
    "\n",
    "4) Access and Authentication:\n",
    "API (General): APIs can have different access mechanisms and authentication methods depending on the implementation. \n",
    "    This can include function parameter validation, token-based authentication, API keys, etc.\n",
    "Web API: Web APIs often use standard web authentication mechanisms like OAuth (Open Authorization) for secure access control over \n",
    "    the internet. Access to web APIs is typically controlled using tokens or credentials provided by the API provider.\n",
    "    \n",
    "\"\"\""
   ]
  }
 ],
 "metadata": {
  "kernelspec": {
   "display_name": "Python 3 (ipykernel)",
   "language": "python",
   "name": "python3"
  },
  "language_info": {
   "codemirror_mode": {
    "name": "ipython",
    "version": 3
   },
   "file_extension": ".py",
   "mimetype": "text/x-python",
   "name": "python",
   "nbconvert_exporter": "python",
   "pygments_lexer": "ipython3",
   "version": "3.10.8"
  }
 },
 "nbformat": 4,
 "nbformat_minor": 5
}
