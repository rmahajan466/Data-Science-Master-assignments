{
 "cells": [
  {
   "cell_type": "code",
   "execution_count": 1,
   "id": "78ad29b3-2fea-45ca-94b9-dce5b79ab50f",
   "metadata": {},
   "outputs": [],
   "source": [
    "#Q1) Create a Pandas Series that contains the following data: 4, 8, 15, 16, 23, and 42. Then, print the series."
   ]
  },
  {
   "cell_type": "code",
   "execution_count": 2,
   "id": "3e7d1ea7-0ecc-4be7-bbd6-f55d59cfbce3",
   "metadata": {},
   "outputs": [
    {
     "name": "stdout",
     "output_type": "stream",
     "text": [
      "0     4\n",
      "1     8\n",
      "2    15\n",
      "3    16\n",
      "4    23\n",
      "5    42\n",
      "dtype: int64\n"
     ]
    }
   ],
   "source": [
    "import pandas as pd\n",
    "\n",
    "# Create a Pandas Series\n",
    "data = [4, 8, 15, 16, 23, 42]\n",
    "series = pd.Series(data)\n",
    "\n",
    "# Print the Series\n",
    "print(series)\n"
   ]
  },
  {
   "cell_type": "code",
   "execution_count": 3,
   "id": "07d9a161-5184-4921-8286-22ba577a7cf2",
   "metadata": {},
   "outputs": [],
   "source": [
    "#Q2. Create a variable of list type containing 10 elements in it, and apply pandas.Series function on the variable print it."
   ]
  },
  {
   "cell_type": "code",
   "execution_count": 4,
   "id": "1de81ce8-0d33-4e6d-b265-cb454adf5088",
   "metadata": {},
   "outputs": [
    {
     "name": "stdout",
     "output_type": "stream",
     "text": [
      "0     10\n",
      "1     20\n",
      "2     30\n",
      "3     40\n",
      "4     50\n",
      "5     60\n",
      "6     70\n",
      "7     80\n",
      "8     90\n",
      "9    100\n",
      "dtype: int64\n"
     ]
    }
   ],
   "source": [
    "# Create a list with 10 elements\n",
    "my_list = [10, 20, 30, 40, 50, 60, 70, 80, 90, 100]\n",
    "\n",
    "# Convert the list to a Pandas Series\n",
    "series = pd.Series(my_list)\n",
    "\n",
    "# Print the Series\n",
    "print(series)\n"
   ]
  },
  {
   "cell_type": "code",
   "execution_count": 6,
   "id": "3d1ea826-291a-4f56-a047-ad7fc5b037fb",
   "metadata": {},
   "outputs": [
    {
     "name": "stdout",
     "output_type": "stream",
     "text": [
      "     Name  Age  Gender\n",
      "0   Alice   25  Female\n",
      "1     Bob   30    Male\n",
      "2  Claire   27  Female\n"
     ]
    }
   ],
   "source": [
    "# Define the data for the DataFrame as a dictionary\n",
    "data = {\n",
    "    'Name': ['Alice', 'Bob', 'Claire'],\n",
    "    'Age': [25, 30, 27],\n",
    "    'Gender': ['Female','Male','Female']\n",
    "}\n",
    "\n",
    "# Create a Pandas DataFrame\n",
    "df = pd.DataFrame(data)\n",
    "\n",
    "# Print the DataFrame\n",
    "print(df)\n"
   ]
  },
  {
   "cell_type": "code",
   "execution_count": 7,
   "id": "c59180ca-71af-45ea-9d39-0e4db2f05e2c",
   "metadata": {},
   "outputs": [],
   "source": [
    "#Q4. What is ‘DataFrame’ in pandas and how is it different from pandas.series? Explain with an example."
   ]
  },
  {
   "cell_type": "code",
   "execution_count": null,
   "id": "2658f7fe-21c0-44c8-9c3f-2f0f8e5ef7db",
   "metadata": {},
   "outputs": [],
   "source": [
    "DataFrame:\n",
    "    \n",
    "    ->A DataFrame in pandas is a 2-dimensional labeled data structure with rows and columns, similar to a table or spreadsheet. It is a collection of Series objects aligned by a \n",
    "        common index.\n",
    "\n",
    "    ->It can be thought of as a container for storing and manipulating tabular data where each column can be of a different data type (integer, float, string, etc.).\n",
    "\n",
    "    ->The rows and columns of a DataFrame can be labeled for indexing and referencing.\n",
    "\n",
    "Series:\n",
    "\n",
    "    -> A Series in pandas is a 1-dimensional labeled array capable of holding data of any type (integer, float, string, etc.). It is essentially a single column of data with an \n",
    "        associated index.\n",
    "\n",
    "    ->It is like a fixed-size dictionary where you can get and set values by index label."
   ]
  },
  {
   "cell_type": "code",
   "execution_count": 8,
   "id": "f3f36a0c-6fc6-47df-8391-32a1d99e76ed",
   "metadata": {},
   "outputs": [
    {
     "name": "stdout",
     "output_type": "stream",
     "text": [
      "DataFrame:\n",
      "      Name  Age         City\n",
      "0    Alice   25     New York\n",
      "1      Bob   30  Los Angeles\n",
      "2  Charlie   35      Chicago\n",
      "\n",
      "\n",
      "Series (Age column from DataFrame):\n",
      "0    25\n",
      "1    30\n",
      "2    35\n",
      "Name: Age, dtype: int64\n"
     ]
    }
   ],
   "source": [
    "# Example DataFrame\n",
    "data = {\n",
    "    'Name': ['Alice', 'Bob', 'Charlie'],\n",
    "    'Age': [25, 30, 35],\n",
    "    'City': ['New York', 'Los Angeles', 'Chicago']\n",
    "}\n",
    "df = pd.DataFrame(data)\n",
    "print(\"DataFrame:\")\n",
    "print(df)\n",
    "print(\"\\n\")\n",
    "\n",
    "# Example Series (selecting a single column from DataFrame)\n",
    "ages_series = df['Age']\n",
    "print(\"Series (Age column from DataFrame):\")\n",
    "print(ages_series)\n"
   ]
  },
  {
   "cell_type": "code",
   "execution_count": 9,
   "id": "174b7e2a-7e72-4c93-a6ef-b55840fb19ea",
   "metadata": {},
   "outputs": [],
   "source": [
    "#Q5. What are some common functions you can use to manipulate data in a Pandas DataFrame? Can you give an example of when you might use one of these functions?"
   ]
  },
  {
   "cell_type": "code",
   "execution_count": null,
   "id": "7ff85380-09e3-488e-8584-a26f34879139",
   "metadata": {},
   "outputs": [],
   "source": [
    "Pandas provides a rich set of functions for manipulating data in a DataFrame. These functions enable tasks such as selecting and filtering data, \n",
    "transforming data, handling missing values, merging datasets, and much more."
   ]
  },
  {
   "cell_type": "code",
   "execution_count": 10,
   "id": "691d51e5-698b-4e02-b0ca-79efb7060299",
   "metadata": {},
   "outputs": [
    {
     "name": "stdout",
     "output_type": "stream",
     "text": [
      "First few rows:\n",
      "      Name  Age         City\n",
      "0    Alice   25     New York\n",
      "1      Bob   30  Los Angeles\n",
      "2  Charlie   35      Chicago\n",
      "3    David   28      Houston\n",
      "4    Emily   32      Seattle\n",
      "\n",
      "Last few rows:\n",
      "      Name  Age         City\n",
      "0    Alice   25     New York\n",
      "1      Bob   30  Los Angeles\n",
      "2  Charlie   35      Chicago\n",
      "3    David   28      Houston\n",
      "4    Emily   32      Seattle\n"
     ]
    }
   ],
   "source": [
    "# Example using head() and tail()\n",
    "import pandas as pd\n",
    "\n",
    "# Create a DataFrame\n",
    "data = {\n",
    "    'Name': ['Alice', 'Bob', 'Charlie', 'David', 'Emily'],\n",
    "    'Age': [25, 30, 35, 28, 32],\n",
    "    'City': ['New York', 'Los Angeles', 'Chicago', 'Houston', 'Seattle']\n",
    "}\n",
    "df = pd.DataFrame(data)\n",
    "\n",
    "print(\"First few rows:\")\n",
    "print(df.head())\n",
    "\n",
    "print(\"\\nLast few rows:\")\n",
    "print(df.tail())\n"
   ]
  },
  {
   "cell_type": "code",
   "execution_count": 11,
   "id": "1b25c2f7-2b52-4578-888f-3b686e540afb",
   "metadata": {},
   "outputs": [],
   "source": [
    "#Q6. Which of the following is mutable in nature Series, DataFrame, Panel?"
   ]
  },
  {
   "cell_type": "code",
   "execution_count": null,
   "id": "46965b26-4ebe-492c-b181-c3a06005e12c",
   "metadata": {},
   "outputs": [],
   "source": [
    "Among the options provided (Series, DataFrame, Panel), the mutable nature refers to the ability to change or modify the object after it has been created.\n",
    "\n",
    "-> Series: A pandas Series is mutable. This means you can modify the values of a Series after it has been created. \n",
    "            You can change individual elements or assign new values to existing indices.\n",
    "\n",
    "-> DataFrame: A pandas DataFrame is also mutable. You can modify the contents of a DataFrame by adding or removing columns, changing values within the DataFrame, or \n",
    "                performing various data manipulation operations.\n",
    "\n",
    "-> Panel: In older versions of pandas, there was a data structure called Panel which represented 3-dimensional data (analogous to a DataFrame for 3-dimensional data). \n",
    "            However, Panel has been deprecated in favor of using MultiIndex DataFrame or other data structures to handle 3-dimensional data. Panel was mutable when it was in use."
   ]
  },
  {
   "cell_type": "code",
   "execution_count": 12,
   "id": "f2eeefd8-9dd2-4039-9677-0ae0ca5e1110",
   "metadata": {},
   "outputs": [],
   "source": [
    "#Q7. Create a DataFrame using multiple Series. Explain with an example."
   ]
  },
  {
   "cell_type": "code",
   "execution_count": 13,
   "id": "c4c95ae0-97df-46fb-bf3b-dbbd9c9c3cef",
   "metadata": {},
   "outputs": [
    {
     "name": "stdout",
     "output_type": "stream",
     "text": [
      "      Name  Age         City\n",
      "0    Alice   25     New York\n",
      "1      Bob   30  Los Angeles\n",
      "2  Charlie   35      Chicago\n",
      "3    David   28      Houston\n"
     ]
    }
   ],
   "source": [
    "import pandas as pd\n",
    "\n",
    "# Create multiple Series\n",
    "name_series = pd.Series(['Alice', 'Bob', 'Charlie', 'David'])\n",
    "age_series = pd.Series([25, 30, 35, 28])\n",
    "city_series = pd.Series(['New York', 'Los Angeles', 'Chicago', 'Houston'])\n",
    "\n",
    "# Combine the Series into a dictionary\n",
    "data = {\n",
    "    'Name': name_series,\n",
    "    'Age': age_series,\n",
    "    'City': city_series\n",
    "}\n",
    "\n",
    "# Create a DataFrame from the dictionary\n",
    "df = pd.DataFrame(data)\n",
    "\n",
    "# Print the DataFrame\n",
    "print(df)\n"
   ]
  },
  {
   "cell_type": "code",
   "execution_count": null,
   "id": "3906f57b-5ad6-41d2-b95f-6bb00597f711",
   "metadata": {},
   "outputs": [],
   "source": []
  }
 ],
 "metadata": {
  "kernelspec": {
   "display_name": "Python 3 (ipykernel)",
   "language": "python",
   "name": "python3"
  },
  "language_info": {
   "codemirror_mode": {
    "name": "ipython",
    "version": 3
   },
   "file_extension": ".py",
   "mimetype": "text/x-python",
   "name": "python",
   "nbconvert_exporter": "python",
   "pygments_lexer": "ipython3",
   "version": "3.10.8"
  }
 },
 "nbformat": 4,
 "nbformat_minor": 5
}
