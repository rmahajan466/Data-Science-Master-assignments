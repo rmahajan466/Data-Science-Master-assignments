{
 "cells": [
  {
   "cell_type": "code",
   "execution_count": 3,
   "id": "c02945fc-6ebe-4f7e-b770-43a7c0fc133a",
   "metadata": {},
   "outputs": [
    {
     "data": {
      "text/plain": [
       "'\\nQuestion 01)\\nWhat is abstraction in OOPs Explain with example.\\n\\nAns)\\n\\nAbstraction in Object-Oriented Programming (OOP) is the concept of hiding the complex implementation details\\nand showing only the necessary features of an object. \\nIt helps in reducing programming complexity and effort by focusing on the essential aspects while hiding unnecessary details.\\n'"
      ]
     },
     "execution_count": 3,
     "metadata": {},
     "output_type": "execute_result"
    }
   ],
   "source": [
    "'''\n",
    "Question 01)\n",
    "What is abstraction in OOPs Explain with example.\n",
    "\n",
    "Ans)\n",
    "\n",
    "Abstraction in Object-Oriented Programming (OOP) is the concept of hiding the complex implementation details\n",
    "and showing only the necessary features of an object. \n",
    "It helps in reducing programming complexity and effort by focusing on the essential aspects while hiding unnecessary details.\n",
    "'''"
   ]
  },
  {
   "cell_type": "code",
   "execution_count": null,
   "id": "d4f72a51-cfee-42d1-a391-1304d110d912",
   "metadata": {},
   "outputs": [],
   "source": []
  },
  {
   "cell_type": "code",
   "execution_count": 5,
   "id": "e0684ee0-2c82-4d74-a2a0-f1e949483cda",
   "metadata": {},
   "outputs": [
    {
     "name": "stdout",
     "output_type": "stream",
     "text": [
      "Shape: Circle, Area: 78.5, Perimeter: 31.400000000000002, Color: Red\n",
      "Shape: Rectangle, Area: 24, Perimeter: 20, Color: Blue\n"
     ]
    }
   ],
   "source": [
    "#Example\n",
    "\n",
    "# Define an abstract base class (interface)\n",
    "class Shape:\n",
    "    def __init__(self, color):\n",
    "        self.color = color\n",
    "    \n",
    "    def area(self):\n",
    "        # This method should be overridden by subclasses\n",
    "        raise NotImplementedError(\"Subclass must implement area method\")\n",
    "    \n",
    "    def perimeter(self):\n",
    "        # This method should be overridden by subclasses\n",
    "        raise NotImplementedError(\"Subclass must implement perimeter method\")\n",
    "\n",
    "# Circle class inheriting from Shape\n",
    "class Circle(Shape):\n",
    "    def __init__(self, color, radius):\n",
    "        super().__init__(color)\n",
    "        self.radius = radius\n",
    "    \n",
    "    def area(self):\n",
    "        return 3.14 * self.radius ** 2\n",
    "    \n",
    "    def perimeter(self):\n",
    "        return 2 * 3.14 * self.radius\n",
    "\n",
    "# Rectangle class inheriting from Shape\n",
    "class Rectangle(Shape):\n",
    "    def __init__(self, color, length, width):\n",
    "        super().__init__(color)\n",
    "        self.length = length\n",
    "        self.width = width\n",
    "    \n",
    "    def area(self):\n",
    "        return self.length * self.width\n",
    "    \n",
    "    def perimeter(self):\n",
    "        return 2 * (self.length + self.width)\n",
    "\n",
    "# Usage of abstraction\n",
    "shapes = [Circle(\"Red\", 5), Rectangle(\"Blue\", 4, 6)]\n",
    "\n",
    "for shape in shapes:\n",
    "    print(f\"Shape: {type(shape).__name__}, Area: {shape.area()}, Perimeter: {shape.perimeter()}, Color: {shape.color}\")\n"
   ]
  },
  {
   "cell_type": "code",
   "execution_count": null,
   "id": "30a5ac0d-d1a6-4760-9b18-6aaaf62845fb",
   "metadata": {},
   "outputs": [],
   "source": []
  },
  {
   "cell_type": "code",
   "execution_count": 6,
   "id": "e45ebf72-615f-46bb-a001-d624ab97043b",
   "metadata": {},
   "outputs": [
    {
     "data": {
      "text/plain": [
       "\"\\nQuestion 02)\\nDifferentiate between Abstraction and Encapsulation. Explain with an example.\\n\\nAns)\\nAbstraction and Encapsulation are two fundamental concepts in Object-Oriented Programming (OOP) but serve different purposes.\\n\\nAbstraction focuses on hiding the complex implementation details and showing only the necessary features of an object. \\nIt allows us to work with high-level concepts without worrying about the low-level details. \\nAbstraction is achieved through abstract classes and interfaces.\\n\\nEncapsulation, on the other hand, is about wrapping the data (attributes) and methods (functions) that operate on the data into a single unit known as a class. \\nIt restricts direct access to some of the object's components, which can prevent the accidental modification of data\\n\""
      ]
     },
     "execution_count": 6,
     "metadata": {},
     "output_type": "execute_result"
    }
   ],
   "source": [
    "'''\n",
    "Question 02)\n",
    "Differentiate between Abstraction and Encapsulation. Explain with an example.\n",
    "\n",
    "Ans)\n",
    "Abstraction and Encapsulation are two fundamental concepts in Object-Oriented Programming (OOP) but serve different purposes.\n",
    "\n",
    "Abstraction focuses on hiding the complex implementation details and showing only the necessary features of an object. \n",
    "It allows us to work with high-level concepts without worrying about the low-level details. \n",
    "Abstraction is achieved through abstract classes and interfaces.\n",
    "\n",
    "Encapsulation, on the other hand, is about wrapping the data (attributes) and methods (functions) that operate on the data into a single unit known as a class. \n",
    "It restricts direct access to some of the object's components, which can prevent the accidental modification of data\n",
    "'''"
   ]
  },
  {
   "cell_type": "code",
   "execution_count": 8,
   "id": "30bca66e-ba8b-4b32-8037-7b3a0a23f968",
   "metadata": {},
   "outputs": [
    {
     "name": "stdout",
     "output_type": "stream",
     "text": [
      "Shape: Circle, Area: 78.5, Perimeter: 31.400000000000002, Color: Red\n",
      "Shape: Rectangle, Area: 24, Perimeter: 20, Color: Blue\n"
     ]
    }
   ],
   "source": [
    "#Abstraction Example:\n",
    "\n",
    "# Define an abstract base class (interface)\n",
    "class Shape:\n",
    "    def __init__(self, color):\n",
    "        self.color = color\n",
    "    \n",
    "    def area(self):\n",
    "        # This method should be overridden by subclasses\n",
    "        raise NotImplementedError(\"Subclass must implement area method\")\n",
    "    \n",
    "    def perimeter(self):\n",
    "        # This method should be overridden by subclasses\n",
    "        raise NotImplementedError(\"Subclass must implement perimeter method\")\n",
    "\n",
    "# Circle class inheriting from Shape\n",
    "class Circle(Shape):\n",
    "    def __init__(self, color, radius):\n",
    "        super().__init__(color)\n",
    "        self.radius = radius\n",
    "    \n",
    "    def area(self):\n",
    "        return 3.14 * self.radius ** 2\n",
    "    \n",
    "    def perimeter(self):\n",
    "        return 2 * 3.14 * self.radius\n",
    "\n",
    "# Rectangle class inheriting from Shape\n",
    "class Rectangle(Shape):\n",
    "    def __init__(self, color, length, width):\n",
    "        super().__init__(color)\n",
    "        self.length = length\n",
    "        self.width = width\n",
    "    \n",
    "    def area(self):\n",
    "        return self.length * self.width\n",
    "    \n",
    "    def perimeter(self):\n",
    "        return 2 * (self.length + self.width)\n",
    "\n",
    "# Usage of abstraction\n",
    "shapes = [Circle(\"Red\", 5), Rectangle(\"Blue\", 4, 6)]\n",
    "\n",
    "for shape in shapes:\n",
    "    print(f\"Shape: {type(shape).__name__}, Area: {shape.area()}, Perimeter: {shape.perimeter()}, Color: {shape.color}\")"
   ]
  },
  {
   "cell_type": "code",
   "execution_count": 9,
   "id": "795ea399-be1b-450e-b4cc-0459a7efbc54",
   "metadata": {},
   "outputs": [
    {
     "name": "stdout",
     "output_type": "stream",
     "text": [
      "Name: John Doe\n",
      "Employee ID: 1001\n",
      "Salary: $50000\n",
      "Name: John Doe\n",
      "Employee ID: 1001\n",
      "Salary: $55000\n"
     ]
    }
   ],
   "source": [
    "#Encapsulation Example:\n",
    "\n",
    "class Employee:\n",
    "    def __init__(self, name, emp_id, salary):\n",
    "        self.name = name\n",
    "        self.__emp_id = emp_id  # Encapsulated attribute (private)\n",
    "        self.__salary = salary  # Encapsulated attribute (private)\n",
    "    \n",
    "    def display_employee_details(self):\n",
    "        # Encapsulated data is accessed through public methods\n",
    "        print(f\"Name: {self.name}\")\n",
    "        print(f\"Employee ID: {self.__emp_id}\")\n",
    "        print(f\"Salary: ${self.__salary}\")\n",
    "\n",
    "    def update_salary(self, new_salary):\n",
    "        # Encapsulated data is modified through public methods\n",
    "        self.__salary = new_salary\n",
    "\n",
    "# Usage of encapsulation\n",
    "emp = Employee(\"John Doe\", 1001, 50000)\n",
    "emp.display_employee_details()\n",
    "\n",
    "# Try to access encapsulated attribute directly (will result in an error)\n",
    "# print(emp.__salary)\n",
    "\n",
    "# Update salary through public method\n",
    "emp.update_salary(55000)\n",
    "emp.display_employee_details()\n"
   ]
  },
  {
   "cell_type": "code",
   "execution_count": 11,
   "id": "f7789586-13c5-4ae7-8754-7f1168b310a5",
   "metadata": {},
   "outputs": [
    {
     "data": {
      "text/plain": [
       "'\\nQuestion 03)\\nWhat is abc module in python? Why is it used?\\n\\nAns)\\nThe `abc` module in Python stands for \"Abstract Base Classes.\" It provides a way to define abstract base classes and abstract methods, \\nwhich are designed to be inherited by other classes but not instantiated on their own.\\n\\nKey uses of the `abc` module include:\\n\\n1. Defining Abstract Base Classes (ABCs):\\n   - Abstract base classes are created using the `ABC` class as a metaclass or by subclassing `ABC`.\\n   - Abstract base classes can have abstract methods, which are declared but not implemented in the base class. \\n     Subclasses must override these abstract methods.\\n\\n2. Enforcing Interface Contracts:\\n   - Abstract base classes define a common interface that subclasses must adhere to.\\n   - By defining abstract methods in the base class, the `abc` module ensures that all subclasses implement these methods,\\n     thereby enforcing a contract or protocol.\\n\\n3. Providing a Framework for Polymorphism:\\n   - Abstract base classes enable polymorphism by defining a common API (interface) that multiple classes can implement differently.\\n   - This allows different objects to be treated uniformly based on their shared interface, rather than their specific implementations.\\n\\n4. Preventing Incorrect Instantiation:\\n   - Abstract base classes cannot be instantiated directly. They serve as templates or blueprints for subclasses.\\n   - Attempting to instantiate an abstract base class directly raises an error, ensuring that only concrete subclasses can be instantiated.\\n\\n'"
      ]
     },
     "execution_count": 11,
     "metadata": {},
     "output_type": "execute_result"
    }
   ],
   "source": [
    "'''\n",
    "Question 03)\n",
    "What is abc module in python? Why is it used?\n",
    "\n",
    "Ans)\n",
    "The `abc` module in Python stands for \"Abstract Base Classes.\" It provides a way to define abstract base classes and abstract methods, \n",
    "which are designed to be inherited by other classes but not instantiated on their own.\n",
    "\n",
    "Key uses of the `abc` module include:\n",
    "\n",
    "1. Defining Abstract Base Classes (ABCs):\n",
    "   - Abstract base classes are created using the `ABC` class as a metaclass or by subclassing `ABC`.\n",
    "   - Abstract base classes can have abstract methods, which are declared but not implemented in the base class. \n",
    "     Subclasses must override these abstract methods.\n",
    "\n",
    "2. Enforcing Interface Contracts:\n",
    "   - Abstract base classes define a common interface that subclasses must adhere to.\n",
    "   - By defining abstract methods in the base class, the `abc` module ensures that all subclasses implement these methods,\n",
    "     thereby enforcing a contract or protocol.\n",
    "\n",
    "3. Providing a Framework for Polymorphism:\n",
    "   - Abstract base classes enable polymorphism by defining a common API (interface) that multiple classes can implement differently.\n",
    "   - This allows different objects to be treated uniformly based on their shared interface, rather than their specific implementations.\n",
    "\n",
    "4. Preventing Incorrect Instantiation:\n",
    "   - Abstract base classes cannot be instantiated directly. They serve as templates or blueprints for subclasses.\n",
    "   - Attempting to instantiate an abstract base class directly raises an error, ensuring that only concrete subclasses can be instantiated.\n",
    "\n",
    "'''"
   ]
  },
  {
   "cell_type": "code",
   "execution_count": 12,
   "id": "91fb3bb2-999f-4728-93da-22c724c544da",
   "metadata": {},
   "outputs": [
    {
     "data": {
      "text/plain": [
       "'\\nQuestion 04)\\nHow can we achieve data abstraction?\\n\\nAns)\\nData abstraction in programming refers to the concept of hiding the complex implementation details of data and exposing only the essential features or interfaces to the outside world. It allows programmers to focus on what an object does rather than how it does it. Achieving data abstraction involves the following principles and techniques:\\n\\n1. Encapsulation:\\n   Encapsulation is the fundamental principle of data abstraction. \\n   It involves bundling the data (attributes) and the methods (functions) that operate on the data into a single unit known as a class. \\n   The internal state of an object is kept private and can only be accessed or modified through well-defined interfaces (methods). \\n   This hides the internal details of how the data is stored and processed, providing a clear separation between interface and implementation.\\n\\n2. Access Control:\\n   Data abstraction relies on access control mechanisms to enforce encapsulation. \\n   By defining attributes and methods as public, protected, or private, we control how they can be accessed by external code. \\n   Public methods provide a controlled interface to interact with the object, while private methods and attributes are hidden from external access, \\n   ensuring data integrity and preventing unintended modifications.\\n\\n3. Abstraction through Interface:\\n   Defining abstract interfaces or base classes is another way to achieve data abstraction. \\n   An interface specifies a set of methods that a class must implement, without providing the actual implementation details. \\n   This allows different classes to share a common interface while providing unique implementations, promoting polymorphism and modular design.\\n\\n4. Separation of Concerns:\\n   Data abstraction promotes the separation of concerns by dividing the implementation details (how things are done) from the external interface (what can be done). \\n   This separation simplifies the complexity of the system, improves maintainability, and facilitates code reuse.\\n\\n5. Information Hiding:\\n   Information hiding is a key aspect of data abstraction. \\n   It involves exposing only relevant information and concealing unnecessary details from the users of the class or module. \\n   By hiding implementation details, we reduce complexity and dependencies, making the system more robust and adaptable to changes.\\n\\n6. Polymorphism:\\n   Polymorphism allows objects of different classes to be treated as objects of a common superclass, based on their shared interface. \\n   This enables flexibility and extensibility in the design, allowing new classes to be added without affecting existing code that relies on the common interface.\\n\\n'"
      ]
     },
     "execution_count": 12,
     "metadata": {},
     "output_type": "execute_result"
    }
   ],
   "source": [
    "'''\n",
    "Question 04)\n",
    "How can we achieve data abstraction?\n",
    "\n",
    "Ans)\n",
    "Data abstraction in programming refers to the concept of hiding the complex implementation details of data and exposing only the essential features or interfaces to the outside world. It allows programmers to focus on what an object does rather than how it does it. Achieving data abstraction involves the following principles and techniques:\n",
    "\n",
    "1. Encapsulation:\n",
    "   Encapsulation is the fundamental principle of data abstraction. \n",
    "   It involves bundling the data (attributes) and the methods (functions) that operate on the data into a single unit known as a class. \n",
    "   The internal state of an object is kept private and can only be accessed or modified through well-defined interfaces (methods). \n",
    "   This hides the internal details of how the data is stored and processed, providing a clear separation between interface and implementation.\n",
    "\n",
    "2. Access Control:\n",
    "   Data abstraction relies on access control mechanisms to enforce encapsulation. \n",
    "   By defining attributes and methods as public, protected, or private, we control how they can be accessed by external code. \n",
    "   Public methods provide a controlled interface to interact with the object, while private methods and attributes are hidden from external access, \n",
    "   ensuring data integrity and preventing unintended modifications.\n",
    "\n",
    "3. Abstraction through Interface:\n",
    "   Defining abstract interfaces or base classes is another way to achieve data abstraction. \n",
    "   An interface specifies a set of methods that a class must implement, without providing the actual implementation details. \n",
    "   This allows different classes to share a common interface while providing unique implementations, promoting polymorphism and modular design.\n",
    "\n",
    "4. Separation of Concerns:\n",
    "   Data abstraction promotes the separation of concerns by dividing the implementation details (how things are done) from the external interface (what can be done). \n",
    "   This separation simplifies the complexity of the system, improves maintainability, and facilitates code reuse.\n",
    "\n",
    "5. Information Hiding:\n",
    "   Information hiding is a key aspect of data abstraction. \n",
    "   It involves exposing only relevant information and concealing unnecessary details from the users of the class or module. \n",
    "   By hiding implementation details, we reduce complexity and dependencies, making the system more robust and adaptable to changes.\n",
    "\n",
    "6. Polymorphism:\n",
    "   Polymorphism allows objects of different classes to be treated as objects of a common superclass, based on their shared interface. \n",
    "   This enables flexibility and extensibility in the design, allowing new classes to be added without affecting existing code that relies on the common interface.\n",
    "\n",
    "'''"
   ]
  },
  {
   "cell_type": "code",
   "execution_count": 13,
   "id": "56441cc4-fc82-499e-8ece-f1d9bfee979c",
   "metadata": {},
   "outputs": [
    {
     "data": {
      "text/plain": [
       "\"\\n\\nQuestion 05)\\nCan we create an instance of an abstract class? Explain your answer.\\n\\nAnswer) \\n\\nIn Python, you cannot create an instance of an abstract class directly. \\nThis is because abstract classes are incomplete by design – they contain one or more abstract methods that lack implementation details. \\nAbstract methods are meant to be overridden by concrete subclasses to provide specific implementations.\\n\\nThe purpose of an abstract class is to serve as a template or blueprint for other classes. \\nIt defines a common interface that its subclasses must adhere to. By defining abstract methods, \\nthe abstract class outlines what behaviors its subclasses should implement without specifying how they should be implemented.\\n\\nAttempting to instantiate an abstract class in Python will raise a `TypeError`. \\nPython's abstract base class mechanism, typically used with the `abc` module, \\nprevents the direct instantiation of abstract classes to enforce this design pattern. \\nInstead, abstract classes are meant to be subclassed, and their abstract methods must be overridden by concrete subclasses before they can be instantiated.\\n\\nTo use an abstract class in Python:\\n\\n1. Subclass the Abstract Class: Create a concrete subclass that inherits from the abstract class.\\n2. Implement Abstract Methods: Override all abstract methods defined in the abstract class with concrete implementations in the subclass.\\n3. Instantiate the Subclass: Once the abstract methods are implemented in the subclass, you can instantiate the subclass and use its functionalities.\\n\\n\""
      ]
     },
     "execution_count": 13,
     "metadata": {},
     "output_type": "execute_result"
    }
   ],
   "source": [
    "'''\n",
    "\n",
    "Question 05)\n",
    "Can we create an instance of an abstract class? Explain your answer.\n",
    "\n",
    "Answer) \n",
    "\n",
    "In Python, you cannot create an instance of an abstract class directly. \n",
    "This is because abstract classes are incomplete by design – they contain one or more abstract methods that lack implementation details. \n",
    "Abstract methods are meant to be overridden by concrete subclasses to provide specific implementations.\n",
    "\n",
    "The purpose of an abstract class is to serve as a template or blueprint for other classes. \n",
    "It defines a common interface that its subclasses must adhere to. By defining abstract methods, \n",
    "the abstract class outlines what behaviors its subclasses should implement without specifying how they should be implemented.\n",
    "\n",
    "Attempting to instantiate an abstract class in Python will raise a `TypeError`. \n",
    "Python's abstract base class mechanism, typically used with the `abc` module, \n",
    "prevents the direct instantiation of abstract classes to enforce this design pattern. \n",
    "Instead, abstract classes are meant to be subclassed, and their abstract methods must be overridden by concrete subclasses before they can be instantiated.\n",
    "\n",
    "To use an abstract class in Python:\n",
    "\n",
    "1. Subclass the Abstract Class: Create a concrete subclass that inherits from the abstract class.\n",
    "2. Implement Abstract Methods: Override all abstract methods defined in the abstract class with concrete implementations in the subclass.\n",
    "3. Instantiate the Subclass: Once the abstract methods are implemented in the subclass, you can instantiate the subclass and use its functionalities.\n",
    "\n",
    "'''"
   ]
  },
  {
   "cell_type": "code",
   "execution_count": null,
   "id": "73f6ccae-9797-4847-894b-46ce2025d0c2",
   "metadata": {},
   "outputs": [],
   "source": []
  }
 ],
 "metadata": {
  "kernelspec": {
   "display_name": "Python 3 (ipykernel)",
   "language": "python",
   "name": "python3"
  },
  "language_info": {
   "codemirror_mode": {
    "name": "ipython",
    "version": 3
   },
   "file_extension": ".py",
   "mimetype": "text/x-python",
   "name": "python",
   "nbconvert_exporter": "python",
   "pygments_lexer": "ipython3",
   "version": "3.10.8"
  }
 },
 "nbformat": 4,
 "nbformat_minor": 5
}
